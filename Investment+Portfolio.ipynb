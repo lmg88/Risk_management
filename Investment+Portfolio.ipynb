{
 "cells": [
  {
   "cell_type": "markdown",
   "metadata": {},
   "source": []
  },
  {
   "cell_type": "markdown",
   "metadata": {},
   "source": [
    "# BUILD AN INVESTMENT PORTOFOLIO IN R"
   ]
  },
  {
   "cell_type": "code",
   "execution_count": 4,
   "metadata": {},
   "outputs": [
    {
     "name": "stdout",
     "output_type": "stream",
     "text": [
      "package 'DEoptim' successfully unpacked and MD5 sums checked\n",
      "\n",
      "The downloaded binary packages are in\n",
      "\tC:\\Users\\luigi\\AppData\\Local\\Temp\\RtmpE1G4iP\\downloaded_packages\n"
     ]
    }
   ],
   "source": [
    "install.packages(\"DEoptim\",repos='http://cran.us.r-project.org')"
   ]
  },
  {
   "cell_type": "code",
   "execution_count": 5,
   "metadata": {},
   "outputs": [
    {
     "name": "stderr",
     "output_type": "stream",
     "text": [
      "Loading required package: parallel\n",
      "\n",
      "DEoptim package\n",
      "Differential Evolution algorithm in R\n",
      "Authors: D. Ardia, K. Mullen, B. Peterson and J. Ulrich\n",
      "\n"
     ]
    }
   ],
   "source": [
    "library(PerformanceAnalytics)\n",
    "library(PortfolioAnalytics)\n",
    "library(quantmod)\n",
    "library(DEoptim)"
   ]
  },
  {
   "cell_type": "code",
   "execution_count": 48,
   "metadata": {},
   "outputs": [
    {
     "name": "stderr",
     "output_type": "stream",
     "text": [
      "pausing 1 second between requests for more than 5 symbols\n",
      "pausing 1 second between requests for more than 5 symbols\n",
      "pausing 1 second between requests for more than 5 symbols\n",
      "pausing 1 second between requests for more than 5 symbols\n"
     ]
    },
    {
     "data": {
      "text/html": [
       "<ol class=list-inline>\n",
       "\t<li>'AMGN'</li>\n",
       "\t<li>'AAPL'</li>\n",
       "\t<li>'FB'</li>\n",
       "\t<li>'AAL'</li>\n",
       "\t<li>'AMD'</li>\n",
       "\t<li>'MSFT'</li>\n",
       "\t<li>'MAT'</li>\n",
       "\t<li>'TSLA'</li>\n",
       "</ol>\n"
      ],
      "text/latex": [
       "\\begin{enumerate*}\n",
       "\\item 'AMGN'\n",
       "\\item 'AAPL'\n",
       "\\item 'FB'\n",
       "\\item 'AAL'\n",
       "\\item 'AMD'\n",
       "\\item 'MSFT'\n",
       "\\item 'MAT'\n",
       "\\item 'TSLA'\n",
       "\\end{enumerate*}\n"
      ],
      "text/markdown": [
       "1. 'AMGN'\n",
       "2. 'AAPL'\n",
       "3. 'FB'\n",
       "4. 'AAL'\n",
       "5. 'AMD'\n",
       "6. 'MSFT'\n",
       "7. 'MAT'\n",
       "8. 'TSLA'\n",
       "\n",
       "\n"
      ],
      "text/plain": [
       "[1] \"AMGN\" \"AAPL\" \"FB\"   \"AAL\"  \"AMD\"  \"MSFT\" \"MAT\"  \"TSLA\""
      ]
     },
     "metadata": {},
     "output_type": "display_data"
    },
    {
     "data": {
      "text/html": [
       "'NDX'"
      ],
      "text/latex": [
       "'NDX'"
      ],
      "text/markdown": [
       "'NDX'"
      ],
      "text/plain": [
       "[1] \"NDX\""
      ]
     },
     "metadata": {},
     "output_type": "display_data"
    }
   ],
   "source": [
    "symbol_list=c(\"AMGN\",\"AAPL\",\"FB\",\"AAL\",\"AMD\",\"MSFT\",\"MAT\",\"TSLA\")\n",
    "getSymbols(symbol_list,from=\"2015-01-01\")\n",
    "getSymbols(\"^NDX\", from=\"2015-01-01\")"
   ]
  },
  {
   "cell_type": "code",
   "execution_count": 49,
   "metadata": {
    "collapsed": true
   },
   "outputs": [],
   "source": [
    "asset_matrix=NULL\n",
    "for( sym in symbol_list){\n",
    "asset_matrix =\n",
    "merge.xts(asset_matrix,\n",
    "Return.calculate(Ad(get(paste(sym))),\n",
    "method='discrete'))}\n",
    "asset_matrix=asset_matrix[complete.cases(asset_matrix)]\n",
    "NDAQReturn=Return.calculate(Ad(NDAQ),method='discrete')"
   ]
  },
  {
   "cell_type": "code",
   "execution_count": 73,
   "metadata": {},
   "outputs": [
    {
     "data": {
      "image/png": "[encoded data removed]",
      "text/plain": [
       "Plot with title \"AMGN.Adjusted\""
      ]
     },
     "metadata": {},
     "output_type": "display_data"
    }
   ],
   "source": [
    "chart.CumReturns(asset_matrix,legend.loc =\"topleft\")"
   ]
  },
  {
   "cell_type": "code",
   "execution_count": null,
   "metadata": {
    "collapsed": true
   },
   "outputs": [],
   "source": [
    "MinimumVariancePortfolio=portfolio.spec(assets=colnames(asset_matrix))\n",
    "MinimumVariancePortfolio=add.objective(portfolio=MinimumVariancePortfolio,type='risk',name='StdDev')"
   ]
  },
  {
   "cell_type": "code",
   "execution_count": 52,
   "metadata": {
    "collapsed": true
   },
   "outputs": [],
   "source": [
    "MinimumVariancePortfolio=add.constraint(portfolio = MinimumVariancePortfolio,type=\"full_investment\")\n",
    "MinimumVariancePortfolio=add.constraint(portfolio = MinimumVariancePortfolio,type=\"long_only\")\n",
    "MinimumVariancePortfolio=add.constraint(portfolio = MinimumVariancePortfolio,type=\"box\",min=0,max=0.5)"
   ]
  },
  {
   "cell_type": "code",
   "execution_count": 53,
   "metadata": {},
   "outputs": [
    {
     "name": "stderr",
     "output_type": "stream",
     "text": [
      "Leverage constraint min_sum and max_sum are restrictive, \n",
      "              consider relaxing. e.g. 'full_investment' constraint should be min_sum=0.99 and max_sum=1.01\n"
     ]
    },
    {
     "name": "stdout",
     "output_type": "stream",
     "text": [
      "Iteration: 1 bestvalit: 0.011684 bestmemit:    0.170000    0.346000    0.012000    0.004000    0.070000    0.208000    0.074000    0.116000\n",
      "Iteration: 2 bestvalit: 0.011684 bestmemit:    0.170000    0.346000    0.012000    0.004000    0.070000    0.208000    0.074000    0.116000\n",
      "Iteration: 3 bestvalit: 0.011684 bestmemit:    0.170000    0.346000    0.012000    0.004000    0.070000    0.208000    0.074000    0.116000\n",
      "Iteration: 4 bestvalit: 0.011682 bestmemit:    0.016000    0.134000    0.092000    0.142000    0.078000    0.312000    0.164000    0.062000\n",
      "Iteration: 5 bestvalit: 0.011518 bestmemit:    0.042000    0.324000    0.042000    0.070000    0.008000    0.416000    0.086000    0.012000\n",
      "Iteration: 6 bestvalit: 0.011196 bestmemit:    0.018000    0.334000    0.098000    0.076000    0.024000    0.266000    0.140000    0.044000\n",
      "Iteration: 7 bestvalit: 0.011196 bestmemit:    0.018000    0.334000    0.098000    0.076000    0.024000    0.266000    0.140000    0.044000\n",
      "Iteration: 8 bestvalit: 0.011196 bestmemit:    0.018000    0.334000    0.098000    0.076000    0.024000    0.266000    0.140000    0.044000\n",
      "Iteration: 9 bestvalit: 0.011196 bestmemit:    0.018000    0.334000    0.098000    0.076000    0.024000    0.266000    0.140000    0.044000\n",
      "Iteration: 10 bestvalit: 0.011196 bestmemit:    0.018000    0.334000    0.098000    0.076000    0.024000    0.266000    0.140000    0.044000\n",
      "Iteration: 11 bestvalit: 0.011196 bestmemit:    0.018000    0.334000    0.098000    0.076000    0.024000    0.266000    0.140000    0.044000\n",
      "Iteration: 12 bestvalit: 0.011196 bestmemit:    0.018000    0.334000    0.098000    0.076000    0.024000    0.266000    0.140000    0.044000\n",
      "Iteration: 13 bestvalit: 0.011196 bestmemit:    0.018000    0.334000    0.098000    0.076000    0.024000    0.266000    0.140000    0.044000\n",
      "Iteration: 14 bestvalit: 0.011196 bestmemit:    0.018000    0.334000    0.098000    0.076000    0.024000    0.266000    0.140000    0.044000\n",
      "Iteration: 15 bestvalit: 0.011196 bestmemit:    0.018000    0.334000    0.098000    0.076000    0.024000    0.266000    0.140000    0.044000\n",
      "Iteration: 16 bestvalit: 0.011196 bestmemit:    0.018000    0.334000    0.098000    0.076000    0.024000    0.266000    0.140000    0.044000\n",
      "Iteration: 17 bestvalit: 0.011196 bestmemit:    0.018000    0.334000    0.098000    0.076000    0.024000    0.266000    0.140000    0.044000\n",
      "Iteration: 18 bestvalit: 0.011196 bestmemit:    0.018000    0.334000    0.098000    0.076000    0.024000    0.266000    0.140000    0.044000\n",
      "Iteration: 19 bestvalit: 0.011196 bestmemit:    0.018000    0.334000    0.098000    0.076000    0.024000    0.266000    0.140000    0.044000\n",
      "[1] 0.018 0.334 0.098 0.076 0.024 0.266 0.140 0.044\n"
     ]
    }
   ],
   "source": [
    "OptimizedPortfolioMinVariance=optimize.portfolio(R=asset_matrix,portfolio=MinimumVariancePortfolio,\n",
    "trace=TRUE)"
   ]
  },
  {
   "cell_type": "code",
   "execution_count": 54,
   "metadata": {},
   "outputs": [
    {
     "data": {
      "image/png": "[encoded data removed]",
      "text/plain": [
       "Plot with title \"Weights\""
      ]
     },
     "metadata": {},
     "output_type": "display_data"
    }
   ],
   "source": [
    "chart.Weights(OptimizedPortfolioMinVariance)"
   ]
  },
  {
   "cell_type": "code",
   "execution_count": 55,
   "metadata": {
    "collapsed": true
   },
   "outputs": [],
   "source": [
    "MeanVariancePortfolio=add.objective(portfolio=MinimumVariancePortfolio,type='return',name='mean')"
   ]
  },
  {
   "cell_type": "code",
   "execution_count": 56,
   "metadata": {},
   "outputs": [
    {
     "name": "stderr",
     "output_type": "stream",
     "text": [
      "Leverage constraint min_sum and max_sum are restrictive, \n",
      "              consider relaxing. e.g. 'full_investment' constraint should be min_sum=0.99 and max_sum=1.01\n"
     ]
    },
    {
     "name": "stdout",
     "output_type": "stream",
     "text": [
      "Iteration: 1 bestvalit: 0.010843 bestmemit:    0.004000    0.206000    0.376000    0.090000    0.006000    0.044000    0.256000    0.018000\n",
      "Iteration: 2 bestvalit: 0.010843 bestmemit:    0.004000    0.206000    0.376000    0.090000    0.006000    0.044000    0.256000    0.018000\n",
      "Iteration: 3 bestvalit: 0.010843 bestmemit:    0.004000    0.206000    0.376000    0.090000    0.006000    0.044000    0.256000    0.018000\n",
      "Iteration: 4 bestvalit: 0.010843 bestmemit:    0.004000    0.206000    0.376000    0.090000    0.006000    0.044000    0.256000    0.018000\n",
      "Iteration: 5 bestvalit: 0.010843 bestmemit:    0.004000    0.206000    0.376000    0.090000    0.006000    0.044000    0.256000    0.018000\n",
      "Iteration: 6 bestvalit: 0.010367 bestmemit:    0.194000    0.298000    0.210000    0.074000    0.000000    0.028000    0.124000    0.072000\n",
      "Iteration: 7 bestvalit: 0.010367 bestmemit:    0.194000    0.298000    0.210000    0.074000    0.000000    0.028000    0.124000    0.072000\n",
      "Iteration: 8 bestvalit: 0.010367 bestmemit:    0.194000    0.298000    0.210000    0.074000    0.000000    0.028000    0.124000    0.072000\n",
      "Iteration: 9 bestvalit: 0.010367 bestmemit:    0.194000    0.298000    0.210000    0.074000    0.000000    0.028000    0.124000    0.072000\n",
      "Iteration: 10 bestvalit: 0.010367 bestmemit:    0.194000    0.298000    0.210000    0.074000    0.000000    0.028000    0.124000    0.072000\n",
      "Iteration: 11 bestvalit: 0.010367 bestmemit:    0.194000    0.298000    0.210000    0.074000    0.000000    0.028000    0.124000    0.072000\n",
      "Iteration: 12 bestvalit: 0.010367 bestmemit:    0.194000    0.298000    0.210000    0.074000    0.000000    0.028000    0.124000    0.072000\n",
      "Iteration: 13 bestvalit: 0.010367 bestmemit:    0.194000    0.298000    0.210000    0.074000    0.000000    0.028000    0.124000    0.072000\n",
      "Iteration: 14 bestvalit: 0.010367 bestmemit:    0.194000    0.298000    0.210000    0.074000    0.000000    0.028000    0.124000    0.072000\n",
      "Iteration: 15 bestvalit: 0.010367 bestmemit:    0.194000    0.298000    0.210000    0.074000    0.000000    0.028000    0.124000    0.072000\n",
      "Iteration: 16 bestvalit: 0.010367 bestmemit:    0.194000    0.298000    0.210000    0.074000    0.000000    0.028000    0.124000    0.072000\n",
      "Iteration: 17 bestvalit: 0.010367 bestmemit:    0.194000    0.298000    0.210000    0.074000    0.000000    0.028000    0.124000    0.072000\n",
      "Iteration: 18 bestvalit: 0.010367 bestmemit:    0.194000    0.298000    0.210000    0.074000    0.000000    0.028000    0.124000    0.072000\n",
      "Iteration: 19 bestvalit: 0.010367 bestmemit:    0.194000    0.298000    0.210000    0.074000    0.000000    0.028000    0.124000    0.072000\n",
      "[1] 0.194 0.298 0.210 0.074 0.000 0.028 0.124 0.072\n"
     ]
    }
   ],
   "source": [
    "OptimizedPortfolioMeanVariance=optimize.portfolio(R=asset_matrix,portfolio=MeanVariancePortfolio,\n",
    "trace=TRUE)"
   ]
  },
  {
   "cell_type": "code",
   "execution_count": 57,
   "metadata": {},
   "outputs": [
    {
     "data": {
      "image/png": "[encoded data removed]",
      "text/plain": [
       "Plot with title \"Weights\""
      ]
     },
     "metadata": {},
     "output_type": "display_data"
    }
   ],
   "source": [
    "chart.Weights(OptimizedPortfolioMeanVariance)"
   ]
  },
  {
   "cell_type": "code",
   "execution_count": 58,
   "metadata": {},
   "outputs": [
    {
     "data": {
      "image/png": "[encoded data removed]",
      "text/plain": [
       "Plot with title \"Risk to Return Plot of various Portfolio Combinations\""
      ]
     },
     "metadata": {},
     "output_type": "display_data"
    }
   ],
   "source": [
    "chart.RiskReward(OptimizedPortfolioMeanVariance,return.col = 'mean',risk.col = 'StdDev',\n",
    "main='Risk to Return Plot of various Portfolio Combinations')"
   ]
  },
  {
   "cell_type": "code",
   "execution_count": 60,
   "metadata": {},
   "outputs": [
    {
     "name": "stderr",
     "output_type": "stream",
     "text": [
      "Warning message in if (optimize_method == \"random\") {:\n",
      "\"la condizione la lunghezza > 1 e solo il promo elemento verrà utilizzato\"Leverage constraint min_sum and max_sum are restrictive, \n",
      "              consider relaxing. e.g. 'full_investment' constraint should be min_sum=0.99 and max_sum=1.01\n"
     ]
    },
    {
     "name": "stdout",
     "output_type": "stream",
     "text": [
      "Iteration: 1 bestvalit: 0.008967 bestmemit:    0.134000    0.366000    0.050000    0.086000    0.004000    0.064000    0.202000    0.094000\n",
      "Iteration: 2 bestvalit: 0.007226 bestmemit:    0.218000    0.100000    0.304000    0.002000    0.014000    0.004000    0.314000    0.044000\n",
      "Iteration: 3 bestvalit: 0.007226 bestmemit:    0.218000    0.100000    0.304000    0.002000    0.014000    0.004000    0.314000    0.044000\n",
      "Iteration: 4 bestvalit: 0.007226 bestmemit:    0.218000    0.100000    0.304000    0.002000    0.014000    0.004000    0.314000    0.044000\n",
      "Iteration: 5 bestvalit: 0.007226 bestmemit:    0.218000    0.100000    0.304000    0.002000    0.014000    0.004000    0.314000    0.044000\n",
      "Iteration: 6 bestvalit: 0.007226 bestmemit:    0.218000    0.100000    0.304000    0.002000    0.014000    0.004000    0.314000    0.044000\n",
      "Iteration: 7 bestvalit: 0.007226 bestmemit:    0.218000    0.100000    0.304000    0.002000    0.014000    0.004000    0.314000    0.044000\n",
      "Iteration: 8 bestvalit: 0.007226 bestmemit:    0.218000    0.100000    0.304000    0.002000    0.014000    0.004000    0.314000    0.044000\n",
      "Iteration: 9 bestvalit: 0.007226 bestmemit:    0.218000    0.100000    0.304000    0.002000    0.014000    0.004000    0.314000    0.044000\n",
      "Iteration: 10 bestvalit: 0.007226 bestmemit:    0.218000    0.100000    0.304000    0.002000    0.014000    0.004000    0.314000    0.044000\n",
      "Iteration: 11 bestvalit: 0.007226 bestmemit:    0.218000    0.100000    0.304000    0.002000    0.014000    0.004000    0.314000    0.044000\n",
      "Iteration: 12 bestvalit: 0.007226 bestmemit:    0.218000    0.100000    0.304000    0.002000    0.014000    0.004000    0.314000    0.044000\n",
      "Iteration: 13 bestvalit: 0.007226 bestmemit:    0.218000    0.100000    0.304000    0.002000    0.014000    0.004000    0.314000    0.044000\n",
      "Iteration: 14 bestvalit: 0.007226 bestmemit:    0.218000    0.100000    0.304000    0.002000    0.014000    0.004000    0.314000    0.044000\n",
      "Iteration: 15 bestvalit: 0.007226 bestmemit:    0.218000    0.100000    0.304000    0.002000    0.014000    0.004000    0.314000    0.044000\n",
      "[1] 0.218 0.100 0.304 0.002 0.014 0.004 0.314 0.044\n"
     ]
    },
    {
     "name": "stderr",
     "output_type": "stream",
     "text": [
      "Leverage constraint min_sum and max_sum are restrictive, \n",
      "              consider relaxing. e.g. 'full_investment' constraint should be min_sum=0.99 and max_sum=1.01\n"
     ]
    },
    {
     "name": "stdout",
     "output_type": "stream",
     "text": [
      "Iteration: 1 bestvalit: 0.010933 bestmemit:    0.024000    0.418000    0.026000    0.048000    0.012000    0.090000    0.188000    0.194000\n",
      "Iteration: 2 bestvalit: 0.010933 bestmemit:    0.024000    0.418000    0.026000    0.048000    0.012000    0.090000    0.188000    0.194000\n",
      "Iteration: 3 bestvalit: 0.010933 bestmemit:    0.024000    0.418000    0.026000    0.048000    0.012000    0.090000    0.188000    0.194000\n",
      "Iteration: 4 bestvalit: 0.010933 bestmemit:    0.024000    0.418000    0.026000    0.048000    0.012000    0.090000    0.188000    0.194000\n",
      "Iteration: 5 bestvalit: 0.010933 bestmemit:    0.024000    0.418000    0.026000    0.048000    0.012000    0.090000    0.188000    0.194000\n",
      "Iteration: 6 bestvalit: 0.010933 bestmemit:    0.024000    0.418000    0.026000    0.048000    0.012000    0.090000    0.188000    0.194000\n",
      "Iteration: 7 bestvalit: 0.010081 bestmemit:    0.016000    0.154000    0.324000    0.022000    0.020000    0.122000    0.324000    0.018000\n",
      "Iteration: 8 bestvalit: 0.010081 bestmemit:    0.016000    0.154000    0.324000    0.022000    0.020000    0.122000    0.324000    0.018000\n",
      "Iteration: 9 bestvalit: 0.009692 bestmemit:    0.044000    0.186000    0.012000    0.044000    0.034000    0.258000    0.314000    0.108000\n",
      "Iteration: 10 bestvalit: 0.009692 bestmemit:    0.044000    0.186000    0.012000    0.044000    0.034000    0.258000    0.314000    0.108000\n",
      "Iteration: 11 bestvalit: 0.009692 bestmemit:    0.044000    0.186000    0.012000    0.044000    0.034000    0.258000    0.314000    0.108000\n",
      "Iteration: 12 bestvalit: 0.009692 bestmemit:    0.044000    0.186000    0.012000    0.044000    0.034000    0.258000    0.314000    0.108000\n",
      "Iteration: 13 bestvalit: 0.009692 bestmemit:    0.044000    0.186000    0.012000    0.044000    0.034000    0.258000    0.314000    0.108000\n",
      "Iteration: 14 bestvalit: 0.009692 bestmemit:    0.044000    0.186000    0.012000    0.044000    0.034000    0.258000    0.314000    0.108000\n",
      "Iteration: 15 bestvalit: 0.009692 bestmemit:    0.044000    0.186000    0.012000    0.044000    0.034000    0.258000    0.314000    0.108000\n",
      "Iteration: 16 bestvalit: 0.009692 bestmemit:    0.044000    0.186000    0.012000    0.044000    0.034000    0.258000    0.314000    0.108000\n",
      "Iteration: 17 bestvalit: 0.009692 bestmemit:    0.044000    0.186000    0.012000    0.044000    0.034000    0.258000    0.314000    0.108000\n",
      "Iteration: 18 bestvalit: 0.009692 bestmemit:    0.044000    0.186000    0.012000    0.044000    0.034000    0.258000    0.314000    0.108000\n",
      "Iteration: 19 bestvalit: 0.009692 bestmemit:    0.044000    0.186000    0.012000    0.044000    0.034000    0.258000    0.314000    0.108000\n",
      "Iteration: 20 bestvalit: 0.009692 bestmemit:    0.044000    0.186000    0.012000    0.044000    0.034000    0.258000    0.314000    0.108000\n",
      "Iteration: 21 bestvalit: 0.009692 bestmemit:    0.044000    0.186000    0.012000    0.044000    0.034000    0.258000    0.314000    0.108000\n",
      "Iteration: 22 bestvalit: 0.009692 bestmemit:    0.044000    0.186000    0.012000    0.044000    0.034000    0.258000    0.314000    0.108000\n",
      "[1] 0.044 0.186 0.012 0.044 0.034 0.258 0.314 0.108\n"
     ]
    },
    {
     "name": "stderr",
     "output_type": "stream",
     "text": [
      "Leverage constraint min_sum and max_sum are restrictive, \n",
      "              consider relaxing. e.g. 'full_investment' constraint should be min_sum=0.99 and max_sum=1.01\n"
     ]
    },
    {
     "name": "stdout",
     "output_type": "stream",
     "text": [
      "Iteration: 1 bestvalit: 0.010018 bestmemit:    0.125000    0.125000    0.125000    0.125000    0.125000    0.125000    0.125000    0.125000\n",
      "Iteration: 2 bestvalit: 0.010018 bestmemit:    0.125000    0.125000    0.125000    0.125000    0.125000    0.125000    0.125000    0.125000\n",
      "Iteration: 3 bestvalit: 0.010018 bestmemit:    0.125000    0.125000    0.125000    0.125000    0.125000    0.125000    0.125000    0.125000\n",
      "Iteration: 4 bestvalit: 0.010018 bestmemit:    0.125000    0.125000    0.125000    0.125000    0.125000    0.125000    0.125000    0.125000\n",
      "Iteration: 5 bestvalit: 0.010018 bestmemit:    0.125000    0.125000    0.125000    0.125000    0.125000    0.125000    0.125000    0.125000\n",
      "Iteration: 6 bestvalit: 0.010018 bestmemit:    0.125000    0.125000    0.125000    0.125000    0.125000    0.125000    0.125000    0.125000\n",
      "Iteration: 7 bestvalit: 0.010018 bestmemit:    0.125000    0.125000    0.125000    0.125000    0.125000    0.125000    0.125000    0.125000\n",
      "Iteration: 8 bestvalit: 0.010018 bestmemit:    0.125000    0.125000    0.125000    0.125000    0.125000    0.125000    0.125000    0.125000\n",
      "Iteration: 9 bestvalit: 0.010018 bestmemit:    0.125000    0.125000    0.125000    0.125000    0.125000    0.125000    0.125000    0.125000\n",
      "Iteration: 10 bestvalit: 0.010018 bestmemit:    0.125000    0.125000    0.125000    0.125000    0.125000    0.125000    0.125000    0.125000\n",
      "Iteration: 11 bestvalit: 0.010018 bestmemit:    0.125000    0.125000    0.125000    0.125000    0.125000    0.125000    0.125000    0.125000\n",
      "Iteration: 12 bestvalit: 0.010018 bestmemit:    0.125000    0.125000    0.125000    0.125000    0.125000    0.125000    0.125000    0.125000\n",
      "Iteration: 13 bestvalit: 0.010018 bestmemit:    0.125000    0.125000    0.125000    0.125000    0.125000    0.125000    0.125000    0.125000\n",
      "[1] 0.125 0.125 0.125 0.125 0.125 0.125 0.125 0.125\n"
     ]
    },
    {
     "name": "stderr",
     "output_type": "stream",
     "text": [
      "Leverage constraint min_sum and max_sum are restrictive, \n",
      "              consider relaxing. e.g. 'full_investment' constraint should be min_sum=0.99 and max_sum=1.01\n"
     ]
    },
    {
     "name": "stdout",
     "output_type": "stream",
     "text": [
      "Iteration: 1 bestvalit: 0.008327 bestmemit:    0.048000    0.000000    0.132000    0.078000    0.280000    0.002000    0.452000    0.008000\n",
      "Iteration: 2 bestvalit: 0.008327 bestmemit:    0.048000    0.000000    0.132000    0.078000    0.280000    0.002000    0.452000    0.008000\n",
      "Iteration: 3 bestvalit: 0.008327 bestmemit:    0.048000    0.000000    0.132000    0.078000    0.280000    0.002000    0.452000    0.008000\n",
      "Iteration: 4 bestvalit: 0.007611 bestmemit:    0.090000    0.052000    0.140000    0.020000    0.144000    0.022000    0.222000    0.310000\n",
      "Iteration: 5 bestvalit: 0.007611 bestmemit:    0.090000    0.052000    0.140000    0.020000    0.144000    0.022000    0.222000    0.310000\n",
      "Iteration: 6 bestvalit: 0.007611 bestmemit:    0.090000    0.052000    0.140000    0.020000    0.144000    0.022000    0.222000    0.310000\n",
      "Iteration: 7 bestvalit: 0.007611 bestmemit:    0.090000    0.052000    0.140000    0.020000    0.144000    0.022000    0.222000    0.310000\n",
      "Iteration: 8 bestvalit: 0.007611 bestmemit:    0.090000    0.052000    0.140000    0.020000    0.144000    0.022000    0.222000    0.310000\n",
      "Iteration: 9 bestvalit: 0.007611 bestmemit:    0.090000    0.052000    0.140000    0.020000    0.144000    0.022000    0.222000    0.310000\n",
      "Iteration: 10 bestvalit: 0.007611 bestmemit:    0.090000    0.052000    0.140000    0.020000    0.144000    0.022000    0.222000    0.310000\n",
      "Iteration: 11 bestvalit: 0.007611 bestmemit:    0.090000    0.052000    0.140000    0.020000    0.144000    0.022000    0.222000    0.310000\n",
      "Iteration: 12 bestvalit: 0.007611 bestmemit:    0.090000    0.052000    0.140000    0.020000    0.144000    0.022000    0.222000    0.310000\n",
      "Iteration: 13 bestvalit: 0.007611 bestmemit:    0.090000    0.052000    0.140000    0.020000    0.144000    0.022000    0.222000    0.310000\n",
      "Iteration: 14 bestvalit: 0.007611 bestmemit:    0.090000    0.052000    0.140000    0.020000    0.144000    0.022000    0.222000    0.310000\n",
      "Iteration: 15 bestvalit: 0.007611 bestmemit:    0.090000    0.052000    0.140000    0.020000    0.144000    0.022000    0.222000    0.310000\n",
      "Iteration: 16 bestvalit: 0.007611 bestmemit:    0.090000    0.052000    0.140000    0.020000    0.144000    0.022000    0.222000    0.310000\n",
      "Iteration: 17 bestvalit: 0.007611 bestmemit:    0.090000    0.052000    0.140000    0.020000    0.144000    0.022000    0.222000    0.310000\n",
      "[1] 0.090 0.052 0.140 0.020 0.144 0.022 0.222 0.310\n"
     ]
    },
    {
     "name": "stderr",
     "output_type": "stream",
     "text": [
      "Leverage constraint min_sum and max_sum are restrictive, \n",
      "              consider relaxing. e.g. 'full_investment' constraint should be min_sum=0.99 and max_sum=1.01\n"
     ]
    },
    {
     "name": "stdout",
     "output_type": "stream",
     "text": [
      "Iteration: 1 bestvalit: 0.007882 bestmemit:    0.016000    0.236000    0.000000    0.020000    0.050000    0.292000    0.000000    0.386000\n",
      "Iteration: 2 bestvalit: 0.007882 bestmemit:    0.016000    0.236000    0.000000    0.020000    0.050000    0.292000    0.000000    0.386000\n",
      "Iteration: 3 bestvalit: 0.007882 bestmemit:    0.016000    0.236000    0.000000    0.020000    0.050000    0.292000    0.000000    0.386000\n",
      "Iteration: 4 bestvalit: 0.007882 bestmemit:    0.016000    0.236000    0.000000    0.020000    0.050000    0.292000    0.000000    0.386000\n",
      "Iteration: 5 bestvalit: 0.007882 bestmemit:    0.016000    0.236000    0.000000    0.020000    0.050000    0.292000    0.000000    0.386000\n",
      "Iteration: 6 bestvalit: 0.007882 bestmemit:    0.016000    0.236000    0.000000    0.020000    0.050000    0.292000    0.000000    0.386000\n",
      "Iteration: 7 bestvalit: 0.007882 bestmemit:    0.016000    0.236000    0.000000    0.020000    0.050000    0.292000    0.000000    0.386000\n",
      "Iteration: 8 bestvalit: 0.007882 bestmemit:    0.016000    0.236000    0.000000    0.020000    0.050000    0.292000    0.000000    0.386000\n",
      "Iteration: 9 bestvalit: 0.007882 bestmemit:    0.016000    0.236000    0.000000    0.020000    0.050000    0.292000    0.000000    0.386000\n",
      "Iteration: 10 bestvalit: 0.007137 bestmemit:    0.064000    0.300000    0.008000    0.000000    0.006000    0.362000    0.000000    0.260000\n",
      "Iteration: 11 bestvalit: 0.007137 bestmemit:    0.064000    0.300000    0.008000    0.000000    0.006000    0.362000    0.000000    0.260000\n",
      "Iteration: 12 bestvalit: 0.007137 bestmemit:    0.064000    0.300000    0.008000    0.000000    0.006000    0.362000    0.000000    0.260000\n",
      "Iteration: 13 bestvalit: 0.007137 bestmemit:    0.064000    0.300000    0.008000    0.000000    0.006000    0.362000    0.000000    0.260000\n",
      "Iteration: 14 bestvalit: 0.007137 bestmemit:    0.064000    0.300000    0.008000    0.000000    0.006000    0.362000    0.000000    0.260000\n",
      "Iteration: 15 bestvalit: 0.007137 bestmemit:    0.064000    0.300000    0.008000    0.000000    0.006000    0.362000    0.000000    0.260000\n",
      "Iteration: 16 bestvalit: 0.007137 bestmemit:    0.064000    0.300000    0.008000    0.000000    0.006000    0.362000    0.000000    0.260000\n",
      "Iteration: 17 bestvalit: 0.007137 bestmemit:    0.064000    0.300000    0.008000    0.000000    0.006000    0.362000    0.000000    0.260000\n",
      "Iteration: 18 bestvalit: 0.007137 bestmemit:    0.064000    0.300000    0.008000    0.000000    0.006000    0.362000    0.000000    0.260000\n",
      "Iteration: 19 bestvalit: 0.007137 bestmemit:    0.064000    0.300000    0.008000    0.000000    0.006000    0.362000    0.000000    0.260000\n",
      "Iteration: 20 bestvalit: 0.007137 bestmemit:    0.064000    0.300000    0.008000    0.000000    0.006000    0.362000    0.000000    0.260000\n",
      "Iteration: 21 bestvalit: 0.007137 bestmemit:    0.064000    0.300000    0.008000    0.000000    0.006000    0.362000    0.000000    0.260000\n",
      "Iteration: 22 bestvalit: 0.007137 bestmemit:    0.064000    0.300000    0.008000    0.000000    0.006000    0.362000    0.000000    0.260000\n",
      "Iteration: 23 bestvalit: 0.007137 bestmemit:    0.064000    0.300000    0.008000    0.000000    0.006000    0.362000    0.000000    0.260000\n",
      "[1] 0.064 0.300 0.008 0.000 0.006 0.362 0.000 0.260\n"
     ]
    },
    {
     "name": "stderr",
     "output_type": "stream",
     "text": [
      "Leverage constraint min_sum and max_sum are restrictive, \n",
      "              consider relaxing. e.g. 'full_investment' constraint should be min_sum=0.99 and max_sum=1.01\n"
     ]
    },
    {
     "name": "stdout",
     "output_type": "stream",
     "text": [
      "Iteration: 1 bestvalit: 0.009355 bestmemit:    0.274000    0.012000    0.110000    0.070000    0.058000    0.210000    0.250000    0.016000\n",
      "Iteration: 2 bestvalit: 0.009355 bestmemit:    0.274000    0.012000    0.110000    0.070000    0.058000    0.210000    0.250000    0.016000\n",
      "Iteration: 3 bestvalit: 0.009355 bestmemit:    0.274000    0.012000    0.110000    0.070000    0.058000    0.210000    0.250000    0.016000\n",
      "Iteration: 4 bestvalit: 0.009355 bestmemit:    0.274000    0.012000    0.110000    0.070000    0.058000    0.210000    0.250000    0.016000\n",
      "Iteration: 5 bestvalit: 0.009355 bestmemit:    0.274000    0.012000    0.110000    0.070000    0.058000    0.210000    0.250000    0.016000\n",
      "Iteration: 6 bestvalit: 0.009355 bestmemit:    0.274000    0.012000    0.110000    0.070000    0.058000    0.210000    0.250000    0.016000\n",
      "Iteration: 7 bestvalit: 0.009355 bestmemit:    0.274000    0.012000    0.110000    0.070000    0.058000    0.210000    0.250000    0.016000\n",
      "Iteration: 8 bestvalit: 0.009355 bestmemit:    0.274000    0.012000    0.110000    0.070000    0.058000    0.210000    0.250000    0.016000\n",
      "Iteration: 9 bestvalit: 0.009355 bestmemit:    0.274000    0.012000    0.110000    0.070000    0.058000    0.210000    0.250000    0.016000\n",
      "Iteration: 10 bestvalit: 0.009355 bestmemit:    0.274000    0.012000    0.110000    0.070000    0.058000    0.210000    0.250000    0.016000\n",
      "Iteration: 11 bestvalit: 0.009355 bestmemit:    0.274000    0.012000    0.110000    0.070000    0.058000    0.210000    0.250000    0.016000\n",
      "Iteration: 12 bestvalit: 0.009355 bestmemit:    0.274000    0.012000    0.110000    0.070000    0.058000    0.210000    0.250000    0.016000\n",
      "Iteration: 13 bestvalit: 0.009355 bestmemit:    0.274000    0.012000    0.110000    0.070000    0.058000    0.210000    0.250000    0.016000\n",
      "Iteration: 14 bestvalit: 0.009355 bestmemit:    0.274000    0.012000    0.110000    0.070000    0.058000    0.210000    0.250000    0.016000\n",
      "[1] 0.274 0.012 0.110 0.070 0.058 0.210 0.250 0.016\n"
     ]
    },
    {
     "name": "stderr",
     "output_type": "stream",
     "text": [
      "Leverage constraint min_sum and max_sum are restrictive, \n",
      "              consider relaxing. e.g. 'full_investment' constraint should be min_sum=0.99 and max_sum=1.01\n"
     ]
    },
    {
     "name": "stdout",
     "output_type": "stream",
     "text": [
      "Iteration: 1 bestvalit: 0.017313 bestmemit:    0.402000    0.000000    0.052000    0.032000    0.066000    0.000000    0.444000    0.004000\n",
      "Iteration: 2 bestvalit: 0.017313 bestmemit:    0.402000    0.000000    0.052000    0.032000    0.066000    0.000000    0.444000    0.004000\n",
      "Iteration: 3 bestvalit: 0.017313 bestmemit:    0.402000    0.000000    0.052000    0.032000    0.066000    0.000000    0.444000    0.004000\n",
      "Iteration: 4 bestvalit: 0.017313 bestmemit:    0.402000    0.000000    0.052000    0.032000    0.066000    0.000000    0.444000    0.004000\n",
      "Iteration: 5 bestvalit: 0.017313 bestmemit:    0.402000    0.000000    0.052000    0.032000    0.066000    0.000000    0.444000    0.004000\n",
      "Iteration: 6 bestvalit: 0.017313 bestmemit:    0.402000    0.000000    0.052000    0.032000    0.066000    0.000000    0.444000    0.004000\n",
      "Iteration: 7 bestvalit: 0.017313 bestmemit:    0.402000    0.000000    0.052000    0.032000    0.066000    0.000000    0.444000    0.004000\n",
      "Iteration: 8 bestvalit: 0.017313 bestmemit:    0.402000    0.000000    0.052000    0.032000    0.066000    0.000000    0.444000    0.004000\n",
      "Iteration: 9 bestvalit: 0.017313 bestmemit:    0.402000    0.000000    0.052000    0.032000    0.066000    0.000000    0.444000    0.004000\n",
      "Iteration: 10 bestvalit: 0.017313 bestmemit:    0.402000    0.000000    0.052000    0.032000    0.066000    0.000000    0.444000    0.004000\n",
      "Iteration: 11 bestvalit: 0.017313 bestmemit:    0.402000    0.000000    0.052000    0.032000    0.066000    0.000000    0.444000    0.004000\n",
      "Iteration: 12 bestvalit: 0.017313 bestmemit:    0.402000    0.000000    0.052000    0.032000    0.066000    0.000000    0.444000    0.004000\n",
      "Iteration: 13 bestvalit: 0.017177 bestmemit:    0.000000    0.000000    0.062000    0.460000    0.056000    0.056000    0.364000    0.002000\n",
      "Iteration: 14 bestvalit: 0.017177 bestmemit:    0.000000    0.000000    0.062000    0.460000    0.056000    0.056000    0.364000    0.002000\n",
      "Iteration: 15 bestvalit: 0.016357 bestmemit:    0.078000    0.030000    0.054000    0.126000    0.142000    0.026000    0.492000    0.052000\n",
      "Iteration: 16 bestvalit: 0.016357 bestmemit:    0.078000    0.030000    0.054000    0.126000    0.142000    0.026000    0.492000    0.052000\n",
      "Iteration: 17 bestvalit: 0.016357 bestmemit:    0.078000    0.030000    0.054000    0.126000    0.142000    0.026000    0.492000    0.052000\n",
      "Iteration: 18 bestvalit: 0.016357 bestmemit:    0.078000    0.030000    0.054000    0.126000    0.142000    0.026000    0.492000    0.052000\n",
      "Iteration: 19 bestvalit: 0.016357 bestmemit:    0.078000    0.030000    0.054000    0.126000    0.142000    0.026000    0.492000    0.052000\n",
      "Iteration: 20 bestvalit: 0.016357 bestmemit:    0.078000    0.030000    0.054000    0.126000    0.142000    0.026000    0.492000    0.052000\n",
      "Iteration: 21 bestvalit: 0.016357 bestmemit:    0.078000    0.030000    0.054000    0.126000    0.142000    0.026000    0.492000    0.052000\n",
      "Iteration: 22 bestvalit: 0.016357 bestmemit:    0.078000    0.030000    0.054000    0.126000    0.142000    0.026000    0.492000    0.052000\n",
      "Iteration: 23 bestvalit: 0.016357 bestmemit:    0.078000    0.030000    0.054000    0.126000    0.142000    0.026000    0.492000    0.052000\n",
      "Iteration: 24 bestvalit: 0.016357 bestmemit:    0.078000    0.030000    0.054000    0.126000    0.142000    0.026000    0.492000    0.052000\n",
      "Iteration: 25 bestvalit: 0.016357 bestmemit:    0.078000    0.030000    0.054000    0.126000    0.142000    0.026000    0.492000    0.052000\n",
      "Iteration: 26 bestvalit: 0.016357 bestmemit:    0.078000    0.030000    0.054000    0.126000    0.142000    0.026000    0.492000    0.052000\n",
      "Iteration: 27 bestvalit: 0.016357 bestmemit:    0.078000    0.030000    0.054000    0.126000    0.142000    0.026000    0.492000    0.052000\n",
      "Iteration: 28 bestvalit: 0.016357 bestmemit:    0.078000    0.030000    0.054000    0.126000    0.142000    0.026000    0.492000    0.052000\n",
      "[1] 0.078 0.030 0.054 0.126 0.142 0.026 0.492 0.052\n"
     ]
    },
    {
     "name": "stderr",
     "output_type": "stream",
     "text": [
      "Leverage constraint min_sum and max_sum are restrictive, \n",
      "              consider relaxing. e.g. 'full_investment' constraint should be min_sum=0.99 and max_sum=1.01\n"
     ]
    },
    {
     "name": "stdout",
     "output_type": "stream",
     "text": [
      "Iteration: 1 bestvalit: 0.015440 bestmemit:    0.050000    0.024000    0.010000    0.260000    0.010000    0.382000    0.234000    0.030000\n",
      "Iteration: 2 bestvalit: 0.015440 bestmemit:    0.050000    0.024000    0.010000    0.260000    0.010000    0.382000    0.234000    0.030000\n",
      "Iteration: 3 bestvalit: 0.015440 bestmemit:    0.050000    0.024000    0.010000    0.260000    0.010000    0.382000    0.234000    0.030000\n",
      "Iteration: 4 bestvalit: 0.015440 bestmemit:    0.050000    0.024000    0.010000    0.260000    0.010000    0.382000    0.234000    0.030000\n",
      "Iteration: 5 bestvalit: 0.015440 bestmemit:    0.050000    0.024000    0.010000    0.260000    0.010000    0.382000    0.234000    0.030000\n",
      "Iteration: 6 bestvalit: 0.015440 bestmemit:    0.050000    0.024000    0.010000    0.260000    0.010000    0.382000    0.234000    0.030000\n",
      "Iteration: 7 bestvalit: 0.015440 bestmemit:    0.050000    0.024000    0.010000    0.260000    0.010000    0.382000    0.234000    0.030000\n",
      "Iteration: 8 bestvalit: 0.015440 bestmemit:    0.050000    0.024000    0.010000    0.260000    0.010000    0.382000    0.234000    0.030000\n",
      "Iteration: 9 bestvalit: 0.015440 bestmemit:    0.050000    0.024000    0.010000    0.260000    0.010000    0.382000    0.234000    0.030000\n",
      "Iteration: 10 bestvalit: 0.015440 bestmemit:    0.050000    0.024000    0.010000    0.260000    0.010000    0.382000    0.234000    0.030000\n",
      "Iteration: 11 bestvalit: 0.015440 bestmemit:    0.050000    0.024000    0.010000    0.260000    0.010000    0.382000    0.234000    0.030000\n",
      "Iteration: 12 bestvalit: 0.015440 bestmemit:    0.050000    0.024000    0.010000    0.260000    0.010000    0.382000    0.234000    0.030000\n",
      "Iteration: 13 bestvalit: 0.015440 bestmemit:    0.050000    0.024000    0.010000    0.260000    0.010000    0.382000    0.234000    0.030000\n",
      "[1] 0.050 0.024 0.010 0.260 0.010 0.382 0.234 0.030\n"
     ]
    },
    {
     "name": "stderr",
     "output_type": "stream",
     "text": [
      "Leverage constraint min_sum and max_sum are restrictive, \n",
      "              consider relaxing. e.g. 'full_investment' constraint should be min_sum=0.99 and max_sum=1.01\n"
     ]
    },
    {
     "name": "stdout",
     "output_type": "stream",
     "text": [
      "Iteration: 1 bestvalit: 0.010200 bestmemit:    0.125000    0.125000    0.125000    0.125000    0.125000    0.125000    0.125000    0.125000\n",
      "Iteration: 2 bestvalit: 0.010200 bestmemit:    0.125000    0.125000    0.125000    0.125000    0.125000    0.125000    0.125000    0.125000\n",
      "Iteration: 3 bestvalit: 0.010200 bestmemit:    0.125000    0.125000    0.125000    0.125000    0.125000    0.125000    0.125000    0.125000\n",
      "Iteration: 4 bestvalit: 0.009801 bestmemit:    0.222000    0.346000    0.014000    0.166000    0.128000    0.008000    0.030000    0.086000\n",
      "Iteration: 5 bestvalit: 0.009801 bestmemit:    0.222000    0.346000    0.014000    0.166000    0.128000    0.008000    0.030000    0.086000\n",
      "Iteration: 6 bestvalit: 0.009801 bestmemit:    0.222000    0.346000    0.014000    0.166000    0.128000    0.008000    0.030000    0.086000\n",
      "Iteration: 7 bestvalit: 0.009801 bestmemit:    0.222000    0.346000    0.014000    0.166000    0.128000    0.008000    0.030000    0.086000\n",
      "Iteration: 8 bestvalit: 0.009801 bestmemit:    0.222000    0.346000    0.014000    0.166000    0.128000    0.008000    0.030000    0.086000\n",
      "Iteration: 9 bestvalit: 0.009801 bestmemit:    0.222000    0.346000    0.014000    0.166000    0.128000    0.008000    0.030000    0.086000\n",
      "Iteration: 10 bestvalit: 0.009801 bestmemit:    0.222000    0.346000    0.014000    0.166000    0.128000    0.008000    0.030000    0.086000\n",
      "Iteration: 11 bestvalit: 0.009801 bestmemit:    0.222000    0.346000    0.014000    0.166000    0.128000    0.008000    0.030000    0.086000\n",
      "Iteration: 12 bestvalit: 0.009801 bestmemit:    0.222000    0.346000    0.014000    0.166000    0.128000    0.008000    0.030000    0.086000\n",
      "Iteration: 13 bestvalit: 0.009801 bestmemit:    0.222000    0.346000    0.014000    0.166000    0.128000    0.008000    0.030000    0.086000\n",
      "Iteration: 14 bestvalit: 0.009801 bestmemit:    0.222000    0.346000    0.014000    0.166000    0.128000    0.008000    0.030000    0.086000\n",
      "Iteration: 15 bestvalit: 0.009801 bestmemit:    0.222000    0.346000    0.014000    0.166000    0.128000    0.008000    0.030000    0.086000\n",
      "Iteration: 16 bestvalit: 0.009801 bestmemit:    0.222000    0.346000    0.014000    0.166000    0.128000    0.008000    0.030000    0.086000\n",
      "Iteration: 17 bestvalit: 0.009801 bestmemit:    0.222000    0.346000    0.014000    0.166000    0.128000    0.008000    0.030000    0.086000\n",
      "[1] 0.222 0.346 0.014 0.166 0.128 0.008 0.030 0.086\n"
     ]
    },
    {
     "name": "stderr",
     "output_type": "stream",
     "text": [
      "Leverage constraint min_sum and max_sum are restrictive, \n",
      "              consider relaxing. e.g. 'full_investment' constraint should be min_sum=0.99 and max_sum=1.01\n"
     ]
    },
    {
     "name": "stdout",
     "output_type": "stream",
     "text": [
      "Iteration: 1 bestvalit: 0.009000 bestmemit:    0.002000    0.266000    0.226000    0.308000    0.098000    0.072000    0.020000    0.008000\n",
      "Iteration: 2 bestvalit: 0.009000 bestmemit:    0.002000    0.266000    0.226000    0.308000    0.098000    0.072000    0.020000    0.008000\n",
      "Iteration: 3 bestvalit: 0.009000 bestmemit:    0.002000    0.266000    0.226000    0.308000    0.098000    0.072000    0.020000    0.008000\n",
      "Iteration: 4 bestvalit: 0.006948 bestmemit:    0.082000    0.106000    0.184000    0.492000    0.002000    0.114000    0.010000    0.010000\n",
      "Iteration: 5 bestvalit: 0.006948 bestmemit:    0.082000    0.106000    0.184000    0.492000    0.002000    0.114000    0.010000    0.010000\n",
      "Iteration: 6 bestvalit: 0.006948 bestmemit:    0.082000    0.106000    0.184000    0.492000    0.002000    0.114000    0.010000    0.010000\n",
      "Iteration: 7 bestvalit: 0.006948 bestmemit:    0.082000    0.106000    0.184000    0.492000    0.002000    0.114000    0.010000    0.010000\n",
      "Iteration: 8 bestvalit: 0.006948 bestmemit:    0.082000    0.106000    0.184000    0.492000    0.002000    0.114000    0.010000    0.010000\n",
      "Iteration: 9 bestvalit: 0.006948 bestmemit:    0.082000    0.106000    0.184000    0.492000    0.002000    0.114000    0.010000    0.010000\n",
      "Iteration: 10 bestvalit: 0.006948 bestmemit:    0.082000    0.106000    0.184000    0.492000    0.002000    0.114000    0.010000    0.010000\n",
      "Iteration: 11 bestvalit: 0.006948 bestmemit:    0.082000    0.106000    0.184000    0.492000    0.002000    0.114000    0.010000    0.010000\n",
      "Iteration: 12 bestvalit: 0.006948 bestmemit:    0.082000    0.106000    0.184000    0.492000    0.002000    0.114000    0.010000    0.010000\n",
      "Iteration: 13 bestvalit: 0.006948 bestmemit:    0.082000    0.106000    0.184000    0.492000    0.002000    0.114000    0.010000    0.010000\n",
      "Iteration: 14 bestvalit: 0.006590 bestmemit:    0.076000    0.048000    0.052000    0.438000    0.012000    0.320000    0.026000    0.028000\n",
      "Iteration: 15 bestvalit: 0.006590 bestmemit:    0.076000    0.048000    0.052000    0.438000    0.012000    0.320000    0.026000    0.028000\n",
      "Iteration: 16 bestvalit: 0.006590 bestmemit:    0.076000    0.048000    0.052000    0.438000    0.012000    0.320000    0.026000    0.028000\n",
      "Iteration: 17 bestvalit: 0.006590 bestmemit:    0.076000    0.048000    0.052000    0.438000    0.012000    0.320000    0.026000    0.028000\n",
      "Iteration: 18 bestvalit: 0.006590 bestmemit:    0.076000    0.048000    0.052000    0.438000    0.012000    0.320000    0.026000    0.028000\n",
      "Iteration: 19 bestvalit: 0.006590 bestmemit:    0.076000    0.048000    0.052000    0.438000    0.012000    0.320000    0.026000    0.028000\n",
      "Iteration: 20 bestvalit: 0.006590 bestmemit:    0.076000    0.048000    0.052000    0.438000    0.012000    0.320000    0.026000    0.028000\n",
      "Iteration: 21 bestvalit: 0.006590 bestmemit:    0.076000    0.048000    0.052000    0.438000    0.012000    0.320000    0.026000    0.028000\n",
      "Iteration: 22 bestvalit: 0.006590 bestmemit:    0.076000    0.048000    0.052000    0.438000    0.012000    0.320000    0.026000    0.028000\n",
      "Iteration: 23 bestvalit: 0.006590 bestmemit:    0.076000    0.048000    0.052000    0.438000    0.012000    0.320000    0.026000    0.028000\n",
      "Iteration: 24 bestvalit: 0.006590 bestmemit:    0.076000    0.048000    0.052000    0.438000    0.012000    0.320000    0.026000    0.028000\n",
      "Iteration: 25 bestvalit: 0.006590 bestmemit:    0.076000    0.048000    0.052000    0.438000    0.012000    0.320000    0.026000    0.028000\n",
      "Iteration: 26 bestvalit: 0.006590 bestmemit:    0.076000    0.048000    0.052000    0.438000    0.012000    0.320000    0.026000    0.028000\n",
      "Iteration: 27 bestvalit: 0.006590 bestmemit:    0.076000    0.048000    0.052000    0.438000    0.012000    0.320000    0.026000    0.028000\n",
      "[1] 0.076 0.048 0.052 0.438 0.012 0.320 0.026 0.028\n"
     ]
    },
    {
     "name": "stderr",
     "output_type": "stream",
     "text": [
      "Leverage constraint min_sum and max_sum are restrictive, \n",
      "              consider relaxing. e.g. 'full_investment' constraint should be min_sum=0.99 and max_sum=1.01\n"
     ]
    },
    {
     "name": "stdout",
     "output_type": "stream",
     "text": [
      "Iteration: 1 bestvalit: 0.013611 bestmemit:    0.004000    0.268000    0.300000    0.012000    0.048000    0.000000    0.308000    0.060000\n",
      "Iteration: 2 bestvalit: 0.013611 bestmemit:    0.004000    0.268000    0.300000    0.012000    0.048000    0.000000    0.308000    0.060000\n",
      "Iteration: 3 bestvalit: 0.013611 bestmemit:    0.004000    0.268000    0.300000    0.012000    0.048000    0.000000    0.308000    0.060000\n",
      "Iteration: 4 bestvalit: 0.013611 bestmemit:    0.004000    0.268000    0.300000    0.012000    0.048000    0.000000    0.308000    0.060000\n",
      "Iteration: 5 bestvalit: 0.013611 bestmemit:    0.004000    0.268000    0.300000    0.012000    0.048000    0.000000    0.308000    0.060000\n",
      "Iteration: 6 bestvalit: 0.013611 bestmemit:    0.004000    0.268000    0.300000    0.012000    0.048000    0.000000    0.308000    0.060000\n",
      "Iteration: 7 bestvalit: 0.013611 bestmemit:    0.004000    0.268000    0.300000    0.012000    0.048000    0.000000    0.308000    0.060000\n",
      "Iteration: 8 bestvalit: 0.013611 bestmemit:    0.004000    0.268000    0.300000    0.012000    0.048000    0.000000    0.308000    0.060000\n",
      "Iteration: 9 bestvalit: 0.013611 bestmemit:    0.004000    0.268000    0.300000    0.012000    0.048000    0.000000    0.308000    0.060000\n",
      "Iteration: 10 bestvalit: 0.013611 bestmemit:    0.004000    0.268000    0.300000    0.012000    0.048000    0.000000    0.308000    0.060000\n",
      "Iteration: 11 bestvalit: 0.013611 bestmemit:    0.004000    0.268000    0.300000    0.012000    0.048000    0.000000    0.308000    0.060000\n",
      "Iteration: 12 bestvalit: 0.013611 bestmemit:    0.004000    0.268000    0.300000    0.012000    0.048000    0.000000    0.308000    0.060000\n",
      "Iteration: 13 bestvalit: 0.013611 bestmemit:    0.004000    0.268000    0.300000    0.012000    0.048000    0.000000    0.308000    0.060000\n",
      "Iteration: 14 bestvalit: 0.013611 bestmemit:    0.004000    0.268000    0.300000    0.012000    0.048000    0.000000    0.308000    0.060000\n",
      "[1] 0.004 0.268 0.300 0.012 0.048 0.000 0.308 0.060\n"
     ]
    },
    {
     "name": "stderr",
     "output_type": "stream",
     "text": [
      "Leverage constraint min_sum and max_sum are restrictive, \n",
      "              consider relaxing. e.g. 'full_investment' constraint should be min_sum=0.99 and max_sum=1.01\n"
     ]
    },
    {
     "name": "stdout",
     "output_type": "stream",
     "text": [
      "Iteration: 1 bestvalit: 0.015466 bestmemit:    0.064000    0.006000    0.032000    0.196000    0.006000    0.210000    0.460000    0.026000\n",
      "Iteration: 2 bestvalit: 0.015466 bestmemit:    0.064000    0.006000    0.032000    0.196000    0.006000    0.210000    0.460000    0.026000\n",
      "Iteration: 3 bestvalit: 0.015466 bestmemit:    0.064000    0.006000    0.032000    0.196000    0.006000    0.210000    0.460000    0.026000\n",
      "Iteration: 4 bestvalit: 0.015466 bestmemit:    0.064000    0.006000    0.032000    0.196000    0.006000    0.210000    0.460000    0.026000\n",
      "Iteration: 5 bestvalit: 0.015466 bestmemit:    0.064000    0.006000    0.032000    0.196000    0.006000    0.210000    0.460000    0.026000\n",
      "Iteration: 6 bestvalit: 0.015466 bestmemit:    0.064000    0.006000    0.032000    0.196000    0.006000    0.210000    0.460000    0.026000\n",
      "Iteration: 7 bestvalit: 0.015466 bestmemit:    0.064000    0.006000    0.032000    0.196000    0.006000    0.210000    0.460000    0.026000\n",
      "Iteration: 8 bestvalit: 0.015466 bestmemit:    0.064000    0.006000    0.032000    0.196000    0.006000    0.210000    0.460000    0.026000\n",
      "Iteration: 9 bestvalit: 0.015466 bestmemit:    0.064000    0.006000    0.032000    0.196000    0.006000    0.210000    0.460000    0.026000\n",
      "Iteration: 10 bestvalit: 0.015466 bestmemit:    0.064000    0.006000    0.032000    0.196000    0.006000    0.210000    0.460000    0.026000\n",
      "Iteration: 11 bestvalit: 0.015466 bestmemit:    0.064000    0.006000    0.032000    0.196000    0.006000    0.210000    0.460000    0.026000\n",
      "Iteration: 12 bestvalit: 0.015466 bestmemit:    0.064000    0.006000    0.032000    0.196000    0.006000    0.210000    0.460000    0.026000\n",
      "Iteration: 13 bestvalit: 0.015466 bestmemit:    0.064000    0.006000    0.032000    0.196000    0.006000    0.210000    0.460000    0.026000\n",
      "[1] 0.064 0.006 0.032 0.196 0.006 0.210 0.460 0.026\n"
     ]
    },
    {
     "name": "stderr",
     "output_type": "stream",
     "text": [
      "Leverage constraint min_sum and max_sum are restrictive, \n",
      "              consider relaxing. e.g. 'full_investment' constraint should be min_sum=0.99 and max_sum=1.01\n"
     ]
    },
    {
     "name": "stdout",
     "output_type": "stream",
     "text": [
      "Iteration: 1 bestvalit: 0.017243 bestmemit:    0.010000    0.192000    0.054000    0.368000    0.030000    0.090000    0.144000    0.112000\n",
      "Iteration: 2 bestvalit: 0.017010 bestmemit:    0.092000    0.222000    0.002000    0.198000    0.024000    0.006000    0.394000    0.062000\n",
      "Iteration: 3 bestvalit: 0.016719 bestmemit:    0.018000    0.230000    0.194000    0.170000    0.104000    0.012000    0.222000    0.050000\n",
      "Iteration: 4 bestvalit: 0.016719 bestmemit:    0.018000    0.230000    0.194000    0.170000    0.104000    0.012000    0.222000    0.050000\n",
      "Iteration: 5 bestvalit: 0.016719 bestmemit:    0.018000    0.230000    0.194000    0.170000    0.104000    0.012000    0.222000    0.050000\n",
      "Iteration: 6 bestvalit: 0.016719 bestmemit:    0.018000    0.230000    0.194000    0.170000    0.104000    0.012000    0.222000    0.050000\n",
      "Iteration: 7 bestvalit: 0.016719 bestmemit:    0.018000    0.230000    0.194000    0.170000    0.104000    0.012000    0.222000    0.050000\n",
      "Iteration: 8 bestvalit: 0.016698 bestmemit:    0.300000    0.080000    0.234000    0.074000    0.004000    0.118000    0.188000    0.002000\n",
      "Iteration: 9 bestvalit: 0.016698 bestmemit:    0.300000    0.080000    0.234000    0.074000    0.004000    0.118000    0.188000    0.002000\n",
      "Iteration: 10 bestvalit: 0.016698 bestmemit:    0.300000    0.080000    0.234000    0.074000    0.004000    0.118000    0.188000    0.002000\n",
      "Iteration: 11 bestvalit: 0.015938 bestmemit:    0.368000    0.018000    0.002000    0.172000    0.152000    0.022000    0.238000    0.028000\n",
      "Iteration: 12 bestvalit: 0.015938 bestmemit:    0.368000    0.018000    0.002000    0.172000    0.152000    0.022000    0.238000    0.028000\n",
      "Iteration: 13 bestvalit: 0.015938 bestmemit:    0.368000    0.018000    0.002000    0.172000    0.152000    0.022000    0.238000    0.028000\n",
      "Iteration: 14 bestvalit: 0.015938 bestmemit:    0.368000    0.018000    0.002000    0.172000    0.152000    0.022000    0.238000    0.028000\n",
      "Iteration: 15 bestvalit: 0.015938 bestmemit:    0.368000    0.018000    0.002000    0.172000    0.152000    0.022000    0.238000    0.028000\n",
      "Iteration: 16 bestvalit: 0.015938 bestmemit:    0.368000    0.018000    0.002000    0.172000    0.152000    0.022000    0.238000    0.028000\n",
      "Iteration: 17 bestvalit: 0.015756 bestmemit:    0.370000    0.168000    0.062000    0.002000    0.072000    0.018000    0.292000    0.016000\n",
      "Iteration: 18 bestvalit: 0.015756 bestmemit:    0.370000    0.168000    0.062000    0.002000    0.072000    0.018000    0.292000    0.016000\n",
      "Iteration: 19 bestvalit: 0.015756 bestmemit:    0.370000    0.168000    0.062000    0.002000    0.072000    0.018000    0.292000    0.016000\n",
      "Iteration: 20 bestvalit: 0.015756 bestmemit:    0.370000    0.168000    0.062000    0.002000    0.072000    0.018000    0.292000    0.016000\n",
      "Iteration: 21 bestvalit: 0.015756 bestmemit:    0.370000    0.168000    0.062000    0.002000    0.072000    0.018000    0.292000    0.016000\n",
      "Iteration: 22 bestvalit: 0.015756 bestmemit:    0.370000    0.168000    0.062000    0.002000    0.072000    0.018000    0.292000    0.016000\n",
      "Iteration: 23 bestvalit: 0.015756 bestmemit:    0.370000    0.168000    0.062000    0.002000    0.072000    0.018000    0.292000    0.016000\n",
      "Iteration: 24 bestvalit: 0.015756 bestmemit:    0.370000    0.168000    0.062000    0.002000    0.072000    0.018000    0.292000    0.016000\n",
      "Iteration: 25 bestvalit: 0.015756 bestmemit:    0.370000    0.168000    0.062000    0.002000    0.072000    0.018000    0.292000    0.016000\n",
      "Iteration: 26 bestvalit: 0.015756 bestmemit:    0.370000    0.168000    0.062000    0.002000    0.072000    0.018000    0.292000    0.016000\n",
      "Iteration: 27 bestvalit: 0.015756 bestmemit:    0.370000    0.168000    0.062000    0.002000    0.072000    0.018000    0.292000    0.016000\n",
      "Iteration: 28 bestvalit: 0.015281 bestmemit:    0.480000    0.360000    0.028000    0.026000    0.086000    0.000000    0.008000    0.012000\n",
      "Iteration: 29 bestvalit: 0.015281 bestmemit:    0.480000    0.360000    0.028000    0.026000    0.086000    0.000000    0.008000    0.012000\n",
      "Iteration: 30 bestvalit: 0.015281 bestmemit:    0.480000    0.360000    0.028000    0.026000    0.086000    0.000000    0.008000    0.012000\n",
      "Iteration: 31 bestvalit: 0.015281 bestmemit:    0.480000    0.360000    0.028000    0.026000    0.086000    0.000000    0.008000    0.012000\n",
      "Iteration: 32 bestvalit: 0.015281 bestmemit:    0.480000    0.360000    0.028000    0.026000    0.086000    0.000000    0.008000    0.012000\n",
      "Iteration: 33 bestvalit: 0.015281 bestmemit:    0.480000    0.360000    0.028000    0.026000    0.086000    0.000000    0.008000    0.012000\n",
      "Iteration: 34 bestvalit: 0.015281 bestmemit:    0.480000    0.360000    0.028000    0.026000    0.086000    0.000000    0.008000    0.012000\n",
      "Iteration: 35 bestvalit: 0.014224 bestmemit:    0.142000    0.482000    0.022000    0.126000    0.032000    0.038000    0.158000    0.000000\n",
      "Iteration: 36 bestvalit: 0.014224 bestmemit:    0.142000    0.482000    0.022000    0.126000    0.032000    0.038000    0.158000    0.000000\n",
      "Iteration: 37 bestvalit: 0.014224 bestmemit:    0.142000    0.482000    0.022000    0.126000    0.032000    0.038000    0.158000    0.000000\n",
      "Iteration: 38 bestvalit: 0.014224 bestmemit:    0.142000    0.482000    0.022000    0.126000    0.032000    0.038000    0.158000    0.000000\n",
      "Iteration: 39 bestvalit: 0.014224 bestmemit:    0.142000    0.482000    0.022000    0.126000    0.032000    0.038000    0.158000    0.000000\n",
      "Iteration: 40 bestvalit: 0.014224 bestmemit:    0.142000    0.482000    0.022000    0.126000    0.032000    0.038000    0.158000    0.000000\n",
      "Iteration: 41 bestvalit: 0.014224 bestmemit:    0.142000    0.482000    0.022000    0.126000    0.032000    0.038000    0.158000    0.000000\n",
      "Iteration: 42 bestvalit: 0.014224 bestmemit:    0.142000    0.482000    0.022000    0.126000    0.032000    0.038000    0.158000    0.000000\n",
      "Iteration: 43 bestvalit: 0.014224 bestmemit:    0.142000    0.482000    0.022000    0.126000    0.032000    0.038000    0.158000    0.000000\n",
      "Iteration: 44 bestvalit: 0.014224 bestmemit:    0.142000    0.482000    0.022000    0.126000    0.032000    0.038000    0.158000    0.000000\n",
      "Iteration: 45 bestvalit: 0.014224 bestmemit:    0.142000    0.482000    0.022000    0.126000    0.032000    0.038000    0.158000    0.000000\n",
      "Iteration: 46 bestvalit: 0.014224 bestmemit:    0.142000    0.482000    0.022000    0.126000    0.032000    0.038000    0.158000    0.000000\n",
      "Iteration: 47 bestvalit: 0.014224 bestmemit:    0.142000    0.482000    0.022000    0.126000    0.032000    0.038000    0.158000    0.000000\n",
      "Iteration: 48 bestvalit: 0.014224 bestmemit:    0.142000    0.482000    0.022000    0.126000    0.032000    0.038000    0.158000    0.000000\n",
      "[1] 0.142 0.482 0.022 0.126 0.032 0.038 0.158 0.000\n"
     ]
    },
    {
     "name": "stderr",
     "output_type": "stream",
     "text": [
      "Leverage constraint min_sum and max_sum are restrictive, \n",
      "              consider relaxing. e.g. 'full_investment' constraint should be min_sum=0.99 and max_sum=1.01\n"
     ]
    },
    {
     "name": "stdout",
     "output_type": "stream",
     "text": [
      "Iteration: 1 bestvalit: 0.006072 bestmemit:    0.182000    0.114000    0.314000    0.012000    0.018000    0.012000    0.322000    0.026000\n",
      "Iteration: 2 bestvalit: 0.006072 bestmemit:    0.182000    0.114000    0.314000    0.012000    0.018000    0.012000    0.322000    0.026000\n",
      "Iteration: 3 bestvalit: 0.006072 bestmemit:    0.182000    0.114000    0.314000    0.012000    0.018000    0.012000    0.322000    0.026000\n",
      "Iteration: 4 bestvalit: 0.006072 bestmemit:    0.182000    0.114000    0.314000    0.012000    0.018000    0.012000    0.322000    0.026000\n",
      "Iteration: 5 bestvalit: 0.006072 bestmemit:    0.182000    0.114000    0.314000    0.012000    0.018000    0.012000    0.322000    0.026000\n",
      "Iteration: 6 bestvalit: 0.006072 bestmemit:    0.182000    0.114000    0.314000    0.012000    0.018000    0.012000    0.322000    0.026000\n",
      "Iteration: 7 bestvalit: 0.006072 bestmemit:    0.182000    0.114000    0.314000    0.012000    0.018000    0.012000    0.322000    0.026000\n",
      "Iteration: 8 bestvalit: 0.006072 bestmemit:    0.182000    0.114000    0.314000    0.012000    0.018000    0.012000    0.322000    0.026000\n",
      "Iteration: 9 bestvalit: 0.006072 bestmemit:    0.182000    0.114000    0.314000    0.012000    0.018000    0.012000    0.322000    0.026000\n",
      "Iteration: 10 bestvalit: 0.006072 bestmemit:    0.182000    0.114000    0.314000    0.012000    0.018000    0.012000    0.322000    0.026000\n",
      "Iteration: 11 bestvalit: 0.006072 bestmemit:    0.182000    0.114000    0.314000    0.012000    0.018000    0.012000    0.322000    0.026000\n",
      "Iteration: 12 bestvalit: 0.006072 bestmemit:    0.182000    0.114000    0.314000    0.012000    0.018000    0.012000    0.322000    0.026000\n",
      "Iteration: 13 bestvalit: 0.006072 bestmemit:    0.182000    0.114000    0.314000    0.012000    0.018000    0.012000    0.322000    0.026000\n",
      "[1] 0.182 0.114 0.314 0.012 0.018 0.012 0.322 0.026\n"
     ]
    },
    {
     "name": "stderr",
     "output_type": "stream",
     "text": [
      "Leverage constraint min_sum and max_sum are restrictive, \n",
      "              consider relaxing. e.g. 'full_investment' constraint should be min_sum=0.99 and max_sum=1.01\n"
     ]
    },
    {
     "name": "stdout",
     "output_type": "stream",
     "text": [
      "Iteration: 1 bestvalit: 0.008808 bestmemit:    0.000000    0.242000    0.196000    0.078000    0.056000    0.210000    0.218000    0.000000\n",
      "Iteration: 2 bestvalit: 0.008808 bestmemit:    0.000000    0.242000    0.196000    0.078000    0.056000    0.210000    0.218000    0.000000\n",
      "Iteration: 3 bestvalit: 0.008808 bestmemit:    0.000000    0.242000    0.196000    0.078000    0.056000    0.210000    0.218000    0.000000\n",
      "Iteration: 4 bestvalit: 0.008808 bestmemit:    0.000000    0.242000    0.196000    0.078000    0.056000    0.210000    0.218000    0.000000\n",
      "Iteration: 5 bestvalit: 0.008808 bestmemit:    0.000000    0.242000    0.196000    0.078000    0.056000    0.210000    0.218000    0.000000\n",
      "Iteration: 6 bestvalit: 0.008762 bestmemit:    0.222000    0.068000    0.126000    0.262000    0.060000    0.196000    0.014000    0.052000\n",
      "Iteration: 7 bestvalit: 0.008762 bestmemit:    0.222000    0.068000    0.126000    0.262000    0.060000    0.196000    0.014000    0.052000\n",
      "Iteration: 8 bestvalit: 0.008762 bestmemit:    0.222000    0.068000    0.126000    0.262000    0.060000    0.196000    0.014000    0.052000\n",
      "Iteration: 9 bestvalit: 0.008762 bestmemit:    0.222000    0.068000    0.126000    0.262000    0.060000    0.196000    0.014000    0.052000\n",
      "Iteration: 10 bestvalit: 0.008762 bestmemit:    0.222000    0.068000    0.126000    0.262000    0.060000    0.196000    0.014000    0.052000\n",
      "Iteration: 11 bestvalit: 0.008762 bestmemit:    0.222000    0.068000    0.126000    0.262000    0.060000    0.196000    0.014000    0.052000\n",
      "Iteration: 12 bestvalit: 0.008762 bestmemit:    0.222000    0.068000    0.126000    0.262000    0.060000    0.196000    0.014000    0.052000\n",
      "Iteration: 13 bestvalit: 0.008762 bestmemit:    0.222000    0.068000    0.126000    0.262000    0.060000    0.196000    0.014000    0.052000\n",
      "Iteration: 14 bestvalit: 0.008456 bestmemit:    0.000000    0.146000    0.190000    0.040000    0.014000    0.250000    0.154000    0.206000\n",
      "Iteration: 15 bestvalit: 0.008456 bestmemit:    0.000000    0.146000    0.190000    0.040000    0.014000    0.250000    0.154000    0.206000\n",
      "Iteration: 16 bestvalit: 0.008456 bestmemit:    0.000000    0.146000    0.190000    0.040000    0.014000    0.250000    0.154000    0.206000\n",
      "Iteration: 17 bestvalit: 0.008456 bestmemit:    0.000000    0.146000    0.190000    0.040000    0.014000    0.250000    0.154000    0.206000\n",
      "Iteration: 18 bestvalit: 0.008456 bestmemit:    0.000000    0.146000    0.190000    0.040000    0.014000    0.250000    0.154000    0.206000\n",
      "Iteration: 19 bestvalit: 0.008456 bestmemit:    0.000000    0.146000    0.190000    0.040000    0.014000    0.250000    0.154000    0.206000\n",
      "Iteration: 20 bestvalit: 0.008456 bestmemit:    0.000000    0.146000    0.190000    0.040000    0.014000    0.250000    0.154000    0.206000\n",
      "Iteration: 21 bestvalit: 0.008456 bestmemit:    0.000000    0.146000    0.190000    0.040000    0.014000    0.250000    0.154000    0.206000\n",
      "Iteration: 22 bestvalit: 0.008456 bestmemit:    0.000000    0.146000    0.190000    0.040000    0.014000    0.250000    0.154000    0.206000\n",
      "Iteration: 23 bestvalit: 0.008456 bestmemit:    0.000000    0.146000    0.190000    0.040000    0.014000    0.250000    0.154000    0.206000\n",
      "Iteration: 24 bestvalit: 0.008456 bestmemit:    0.000000    0.146000    0.190000    0.040000    0.014000    0.250000    0.154000    0.206000\n",
      "Iteration: 25 bestvalit: 0.008456 bestmemit:    0.000000    0.146000    0.190000    0.040000    0.014000    0.250000    0.154000    0.206000\n",
      "Iteration: 26 bestvalit: 0.008456 bestmemit:    0.000000    0.146000    0.190000    0.040000    0.014000    0.250000    0.154000    0.206000\n",
      "Iteration: 27 bestvalit: 0.008456 bestmemit:    0.000000    0.146000    0.190000    0.040000    0.014000    0.250000    0.154000    0.206000\n",
      "[1] 0.000 0.146 0.190 0.040 0.014 0.250 0.154 0.206\n"
     ]
    },
    {
     "name": "stderr",
     "output_type": "stream",
     "text": [
      "Leverage constraint min_sum and max_sum are restrictive, \n",
      "              consider relaxing. e.g. 'full_investment' constraint should be min_sum=0.99 and max_sum=1.01\n"
     ]
    },
    {
     "name": "stdout",
     "output_type": "stream",
     "text": [
      "Iteration: 1 bestvalit: 0.007855 bestmemit:    0.040000    0.334000    0.148000    0.030000    0.018000    0.130000    0.196000    0.104000\n",
      "Iteration: 2 bestvalit: 0.007855 bestmemit:    0.040000    0.334000    0.148000    0.030000    0.018000    0.130000    0.196000    0.104000\n",
      "Iteration: 3 bestvalit: 0.007855 bestmemit:    0.040000    0.334000    0.148000    0.030000    0.018000    0.130000    0.196000    0.104000\n",
      "Iteration: 4 bestvalit: 0.007855 bestmemit:    0.040000    0.334000    0.148000    0.030000    0.018000    0.130000    0.196000    0.104000\n",
      "Iteration: 5 bestvalit: 0.007855 bestmemit:    0.040000    0.334000    0.148000    0.030000    0.018000    0.130000    0.196000    0.104000\n",
      "Iteration: 6 bestvalit: 0.007855 bestmemit:    0.040000    0.334000    0.148000    0.030000    0.018000    0.130000    0.196000    0.104000\n",
      "Iteration: 7 bestvalit: 0.007855 bestmemit:    0.040000    0.334000    0.148000    0.030000    0.018000    0.130000    0.196000    0.104000\n",
      "Iteration: 8 bestvalit: 0.007855 bestmemit:    0.040000    0.334000    0.148000    0.030000    0.018000    0.130000    0.196000    0.104000\n",
      "Iteration: 9 bestvalit: 0.007109 bestmemit:    0.010000    0.044000    0.466000    0.054000    0.090000    0.018000    0.316000    0.002000\n",
      "Iteration: 10 bestvalit: 0.007109 bestmemit:    0.010000    0.044000    0.466000    0.054000    0.090000    0.018000    0.316000    0.002000\n",
      "Iteration: 11 bestvalit: 0.007109 bestmemit:    0.010000    0.044000    0.466000    0.054000    0.090000    0.018000    0.316000    0.002000\n",
      "Iteration: 12 bestvalit: 0.007109 bestmemit:    0.010000    0.044000    0.466000    0.054000    0.090000    0.018000    0.316000    0.002000\n",
      "Iteration: 13 bestvalit: 0.007109 bestmemit:    0.010000    0.044000    0.466000    0.054000    0.090000    0.018000    0.316000    0.002000\n",
      "Iteration: 14 bestvalit: 0.007109 bestmemit:    0.010000    0.044000    0.466000    0.054000    0.090000    0.018000    0.316000    0.002000\n",
      "Iteration: 15 bestvalit: 0.007109 bestmemit:    0.010000    0.044000    0.466000    0.054000    0.090000    0.018000    0.316000    0.002000\n",
      "Iteration: 16 bestvalit: 0.007109 bestmemit:    0.010000    0.044000    0.466000    0.054000    0.090000    0.018000    0.316000    0.002000\n",
      "Iteration: 17 bestvalit: 0.007109 bestmemit:    0.010000    0.044000    0.466000    0.054000    0.090000    0.018000    0.316000    0.002000\n",
      "Iteration: 18 bestvalit: 0.007109 bestmemit:    0.010000    0.044000    0.466000    0.054000    0.090000    0.018000    0.316000    0.002000\n",
      "Iteration: 19 bestvalit: 0.007109 bestmemit:    0.010000    0.044000    0.466000    0.054000    0.090000    0.018000    0.316000    0.002000\n",
      "Iteration: 20 bestvalit: 0.007109 bestmemit:    0.010000    0.044000    0.466000    0.054000    0.090000    0.018000    0.316000    0.002000\n",
      "Iteration: 21 bestvalit: 0.007109 bestmemit:    0.010000    0.044000    0.466000    0.054000    0.090000    0.018000    0.316000    0.002000\n",
      "Iteration: 22 bestvalit: 0.007109 bestmemit:    0.010000    0.044000    0.466000    0.054000    0.090000    0.018000    0.316000    0.002000\n",
      "[1] 0.010 0.044 0.466 0.054 0.090 0.018 0.316 0.002\n"
     ]
    },
    {
     "name": "stderr",
     "output_type": "stream",
     "text": [
      "Leverage constraint min_sum and max_sum are restrictive, \n",
      "              consider relaxing. e.g. 'full_investment' constraint should be min_sum=0.99 and max_sum=1.01\n"
     ]
    },
    {
     "name": "stdout",
     "output_type": "stream",
     "text": [
      "Iteration: 1 bestvalit: 0.013632 bestmemit:    0.456000    0.068000    0.226000    0.034000    0.018000    0.032000    0.030000    0.136000\n",
      "Iteration: 2 bestvalit: 0.013241 bestmemit:    0.364000    0.242000    0.108000    0.030000    0.016000    0.150000    0.038000    0.052000\n",
      "Iteration: 3 bestvalit: 0.013241 bestmemit:    0.364000    0.242000    0.108000    0.030000    0.016000    0.150000    0.038000    0.052000\n",
      "Iteration: 4 bestvalit: 0.013241 bestmemit:    0.364000    0.242000    0.108000    0.030000    0.016000    0.150000    0.038000    0.052000\n",
      "Iteration: 5 bestvalit: 0.013241 bestmemit:    0.364000    0.242000    0.108000    0.030000    0.016000    0.150000    0.038000    0.052000\n",
      "Iteration: 6 bestvalit: 0.013241 bestmemit:    0.364000    0.242000    0.108000    0.030000    0.016000    0.150000    0.038000    0.052000\n",
      "Iteration: 7 bestvalit: 0.013241 bestmemit:    0.364000    0.242000    0.108000    0.030000    0.016000    0.150000    0.038000    0.052000\n",
      "Iteration: 8 bestvalit: 0.013241 bestmemit:    0.364000    0.242000    0.108000    0.030000    0.016000    0.150000    0.038000    0.052000\n",
      "Iteration: 9 bestvalit: 0.013241 bestmemit:    0.364000    0.242000    0.108000    0.030000    0.016000    0.150000    0.038000    0.052000\n",
      "Iteration: 10 bestvalit: 0.013241 bestmemit:    0.364000    0.242000    0.108000    0.030000    0.016000    0.150000    0.038000    0.052000\n",
      "Iteration: 11 bestvalit: 0.013241 bestmemit:    0.364000    0.242000    0.108000    0.030000    0.016000    0.150000    0.038000    0.052000\n",
      "Iteration: 12 bestvalit: 0.013241 bestmemit:    0.364000    0.242000    0.108000    0.030000    0.016000    0.150000    0.038000    0.052000\n",
      "Iteration: 13 bestvalit: 0.013241 bestmemit:    0.364000    0.242000    0.108000    0.030000    0.016000    0.150000    0.038000    0.052000\n",
      "Iteration: 14 bestvalit: 0.013150 bestmemit:    0.000000    0.444000    0.096000    0.002000    0.000000    0.456000    0.002000    0.000000\n",
      "Iteration: 15 bestvalit: 0.013150 bestmemit:    0.000000    0.444000    0.096000    0.002000    0.000000    0.456000    0.002000    0.000000\n",
      "Iteration: 16 bestvalit: 0.013150 bestmemit:    0.000000    0.444000    0.096000    0.002000    0.000000    0.456000    0.002000    0.000000\n",
      "Iteration: 17 bestvalit: 0.013150 bestmemit:    0.000000    0.444000    0.096000    0.002000    0.000000    0.456000    0.002000    0.000000\n",
      "Iteration: 18 bestvalit: 0.013150 bestmemit:    0.000000    0.444000    0.096000    0.002000    0.000000    0.456000    0.002000    0.000000\n",
      "Iteration: 19 bestvalit: 0.012867 bestmemit:    0.428000    0.224000    0.162000    0.026000    0.004000    0.122000    0.008000    0.026000\n",
      "Iteration: 20 bestvalit: 0.012867 bestmemit:    0.428000    0.224000    0.162000    0.026000    0.004000    0.122000    0.008000    0.026000\n",
      "Iteration: 21 bestvalit: 0.012867 bestmemit:    0.428000    0.224000    0.162000    0.026000    0.004000    0.122000    0.008000    0.026000\n",
      "Iteration: 22 bestvalit: 0.012867 bestmemit:    0.428000    0.224000    0.162000    0.026000    0.004000    0.122000    0.008000    0.026000\n",
      "Iteration: 23 bestvalit: 0.012867 bestmemit:    0.428000    0.224000    0.162000    0.026000    0.004000    0.122000    0.008000    0.026000\n",
      "Iteration: 24 bestvalit: 0.012867 bestmemit:    0.428000    0.224000    0.162000    0.026000    0.004000    0.122000    0.008000    0.026000\n",
      "Iteration: 25 bestvalit: 0.012867 bestmemit:    0.428000    0.224000    0.162000    0.026000    0.004000    0.122000    0.008000    0.026000\n",
      "Iteration: 26 bestvalit: 0.012867 bestmemit:    0.428000    0.224000    0.162000    0.026000    0.004000    0.122000    0.008000    0.026000\n",
      "Iteration: 27 bestvalit: 0.012867 bestmemit:    0.428000    0.224000    0.162000    0.026000    0.004000    0.122000    0.008000    0.026000\n",
      "Iteration: 28 bestvalit: 0.012329 bestmemit:    0.404000    0.474000    0.014000    0.012000    0.030000    0.014000    0.024000    0.028000\n",
      "Iteration: 29 bestvalit: 0.012329 bestmemit:    0.404000    0.474000    0.014000    0.012000    0.030000    0.014000    0.024000    0.028000\n",
      "Iteration: 30 bestvalit: 0.012329 bestmemit:    0.404000    0.474000    0.014000    0.012000    0.030000    0.014000    0.024000    0.028000\n",
      "Iteration: 31 bestvalit: 0.012329 bestmemit:    0.404000    0.474000    0.014000    0.012000    0.030000    0.014000    0.024000    0.028000\n",
      "Iteration: 32 bestvalit: 0.012329 bestmemit:    0.404000    0.474000    0.014000    0.012000    0.030000    0.014000    0.024000    0.028000\n",
      "Iteration: 33 bestvalit: 0.012329 bestmemit:    0.404000    0.474000    0.014000    0.012000    0.030000    0.014000    0.024000    0.028000\n",
      "Iteration: 34 bestvalit: 0.012329 bestmemit:    0.404000    0.474000    0.014000    0.012000    0.030000    0.014000    0.024000    0.028000\n",
      "Iteration: 35 bestvalit: 0.012329 bestmemit:    0.404000    0.474000    0.014000    0.012000    0.030000    0.014000    0.024000    0.028000\n",
      "Iteration: 36 bestvalit: 0.012329 bestmemit:    0.404000    0.474000    0.014000    0.012000    0.030000    0.014000    0.024000    0.028000\n",
      "Iteration: 37 bestvalit: 0.012329 bestmemit:    0.404000    0.474000    0.014000    0.012000    0.030000    0.014000    0.024000    0.028000\n",
      "Iteration: 38 bestvalit: 0.012329 bestmemit:    0.404000    0.474000    0.014000    0.012000    0.030000    0.014000    0.024000    0.028000\n",
      "Iteration: 39 bestvalit: 0.012329 bestmemit:    0.404000    0.474000    0.014000    0.012000    0.030000    0.014000    0.024000    0.028000\n",
      "Iteration: 40 bestvalit: 0.012329 bestmemit:    0.404000    0.474000    0.014000    0.012000    0.030000    0.014000    0.024000    0.028000\n",
      "Iteration: 41 bestvalit: 0.012329 bestmemit:    0.404000    0.474000    0.014000    0.012000    0.030000    0.014000    0.024000    0.028000\n",
      "[1] 0.404 0.474 0.014 0.012 0.030 0.014 0.024 0.028\n"
     ]
    },
    {
     "name": "stderr",
     "output_type": "stream",
     "text": [
      "Leverage constraint min_sum and max_sum are restrictive, \n",
      "              consider relaxing. e.g. 'full_investment' constraint should be min_sum=0.99 and max_sum=1.01\n"
     ]
    },
    {
     "name": "stdout",
     "output_type": "stream",
     "text": [
      "Iteration: 1 bestvalit: 0.007937 bestmemit:    0.010000    0.008000    0.488000    0.002000    0.060000    0.096000    0.324000    0.012000\n",
      "Iteration: 2 bestvalit: 0.007937 bestmemit:    0.010000    0.008000    0.488000    0.002000    0.060000    0.096000    0.324000    0.012000\n",
      "Iteration: 3 bestvalit: 0.007937 bestmemit:    0.010000    0.008000    0.488000    0.002000    0.060000    0.096000    0.324000    0.012000\n",
      "Iteration: 4 bestvalit: 0.007937 bestmemit:    0.010000    0.008000    0.488000    0.002000    0.060000    0.096000    0.324000    0.012000\n",
      "Iteration: 5 bestvalit: 0.007937 bestmemit:    0.010000    0.008000    0.488000    0.002000    0.060000    0.096000    0.324000    0.012000\n",
      "Iteration: 6 bestvalit: 0.007937 bestmemit:    0.010000    0.008000    0.488000    0.002000    0.060000    0.096000    0.324000    0.012000\n",
      "Iteration: 7 bestvalit: 0.007937 bestmemit:    0.010000    0.008000    0.488000    0.002000    0.060000    0.096000    0.324000    0.012000\n",
      "Iteration: 8 bestvalit: 0.007937 bestmemit:    0.010000    0.008000    0.488000    0.002000    0.060000    0.096000    0.324000    0.012000\n",
      "Iteration: 9 bestvalit: 0.007937 bestmemit:    0.010000    0.008000    0.488000    0.002000    0.060000    0.096000    0.324000    0.012000\n",
      "Iteration: 10 bestvalit: 0.007465 bestmemit:    0.464000    0.142000    0.260000    0.050000    0.030000    0.000000    0.054000    0.000000\n",
      "Iteration: 11 bestvalit: 0.007465 bestmemit:    0.464000    0.142000    0.260000    0.050000    0.030000    0.000000    0.054000    0.000000\n",
      "Iteration: 12 bestvalit: 0.007465 bestmemit:    0.464000    0.142000    0.260000    0.050000    0.030000    0.000000    0.054000    0.000000\n",
      "Iteration: 13 bestvalit: 0.007465 bestmemit:    0.464000    0.142000    0.260000    0.050000    0.030000    0.000000    0.054000    0.000000\n",
      "Iteration: 14 bestvalit: 0.007465 bestmemit:    0.464000    0.142000    0.260000    0.050000    0.030000    0.000000    0.054000    0.000000\n",
      "Iteration: 15 bestvalit: 0.007158 bestmemit:    0.498000    0.142000    0.082000    0.024000    0.002000    0.048000    0.116000    0.088000\n",
      "Iteration: 16 bestvalit: 0.007158 bestmemit:    0.498000    0.142000    0.082000    0.024000    0.002000    0.048000    0.116000    0.088000\n",
      "Iteration: 17 bestvalit: 0.007158 bestmemit:    0.498000    0.142000    0.082000    0.024000    0.002000    0.048000    0.116000    0.088000\n",
      "Iteration: 18 bestvalit: 0.007158 bestmemit:    0.498000    0.142000    0.082000    0.024000    0.002000    0.048000    0.116000    0.088000\n",
      "Iteration: 19 bestvalit: 0.007158 bestmemit:    0.498000    0.142000    0.082000    0.024000    0.002000    0.048000    0.116000    0.088000\n",
      "Iteration: 20 bestvalit: 0.007158 bestmemit:    0.498000    0.142000    0.082000    0.024000    0.002000    0.048000    0.116000    0.088000\n",
      "Iteration: 21 bestvalit: 0.007158 bestmemit:    0.498000    0.142000    0.082000    0.024000    0.002000    0.048000    0.116000    0.088000\n",
      "Iteration: 22 bestvalit: 0.007158 bestmemit:    0.498000    0.142000    0.082000    0.024000    0.002000    0.048000    0.116000    0.088000\n",
      "Iteration: 23 bestvalit: 0.007158 bestmemit:    0.498000    0.142000    0.082000    0.024000    0.002000    0.048000    0.116000    0.088000\n",
      "Iteration: 24 bestvalit: 0.007158 bestmemit:    0.498000    0.142000    0.082000    0.024000    0.002000    0.048000    0.116000    0.088000\n",
      "Iteration: 25 bestvalit: 0.007158 bestmemit:    0.498000    0.142000    0.082000    0.024000    0.002000    0.048000    0.116000    0.088000\n",
      "Iteration: 26 bestvalit: 0.007158 bestmemit:    0.498000    0.142000    0.082000    0.024000    0.002000    0.048000    0.116000    0.088000\n",
      "Iteration: 27 bestvalit: 0.007158 bestmemit:    0.498000    0.142000    0.082000    0.024000    0.002000    0.048000    0.116000    0.088000\n",
      "Iteration: 28 bestvalit: 0.007158 bestmemit:    0.498000    0.142000    0.082000    0.024000    0.002000    0.048000    0.116000    0.088000\n",
      "[1] 0.498 0.142 0.082 0.024 0.002 0.048 0.116 0.088\n"
     ]
    },
    {
     "name": "stderr",
     "output_type": "stream",
     "text": [
      "Leverage constraint min_sum and max_sum are restrictive, \n",
      "              consider relaxing. e.g. 'full_investment' constraint should be min_sum=0.99 and max_sum=1.01\n"
     ]
    },
    {
     "name": "stdout",
     "output_type": "stream",
     "text": [
      "Iteration: 1 bestvalit: 0.004538 bestmemit:    0.076000    0.262000    0.308000    0.008000    0.000000    0.262000    0.042000    0.042000\n",
      "Iteration: 2 bestvalit: 0.004538 bestmemit:    0.076000    0.262000    0.308000    0.008000    0.000000    0.262000    0.042000    0.042000\n",
      "Iteration: 3 bestvalit: 0.004538 bestmemit:    0.076000    0.262000    0.308000    0.008000    0.000000    0.262000    0.042000    0.042000\n",
      "Iteration: 4 bestvalit: 0.004538 bestmemit:    0.076000    0.262000    0.308000    0.008000    0.000000    0.262000    0.042000    0.042000\n",
      "Iteration: 5 bestvalit: 0.004538 bestmemit:    0.076000    0.262000    0.308000    0.008000    0.000000    0.262000    0.042000    0.042000\n",
      "Iteration: 6 bestvalit: 0.004538 bestmemit:    0.076000    0.262000    0.308000    0.008000    0.000000    0.262000    0.042000    0.042000\n",
      "Iteration: 7 bestvalit: 0.004538 bestmemit:    0.076000    0.262000    0.308000    0.008000    0.000000    0.262000    0.042000    0.042000\n",
      "Iteration: 8 bestvalit: 0.004538 bestmemit:    0.076000    0.262000    0.308000    0.008000    0.000000    0.262000    0.042000    0.042000\n",
      "Iteration: 9 bestvalit: 0.004538 bestmemit:    0.076000    0.262000    0.308000    0.008000    0.000000    0.262000    0.042000    0.042000\n",
      "Iteration: 10 bestvalit: 0.004538 bestmemit:    0.076000    0.262000    0.308000    0.008000    0.000000    0.262000    0.042000    0.042000\n",
      "Iteration: 11 bestvalit: 0.004538 bestmemit:    0.076000    0.262000    0.308000    0.008000    0.000000    0.262000    0.042000    0.042000\n",
      "Iteration: 12 bestvalit: 0.004538 bestmemit:    0.076000    0.262000    0.308000    0.008000    0.000000    0.262000    0.042000    0.042000\n",
      "Iteration: 13 bestvalit: 0.004538 bestmemit:    0.076000    0.262000    0.308000    0.008000    0.000000    0.262000    0.042000    0.042000\n",
      "[1] 0.076 0.262 0.308 0.008 0.000 0.262 0.042 0.042\n"
     ]
    },
    {
     "name": "stderr",
     "output_type": "stream",
     "text": [
      "Leverage constraint min_sum and max_sum are restrictive, \n",
      "              consider relaxing. e.g. 'full_investment' constraint should be min_sum=0.99 and max_sum=1.01\n"
     ]
    },
    {
     "name": "stdout",
     "output_type": "stream",
     "text": [
      "Iteration: 1 bestvalit: 0.008554 bestmemit:    0.038000    0.082000    0.428000    0.080000    0.032000    0.028000    0.274000    0.038000\n",
      "Iteration: 2 bestvalit: 0.008554 bestmemit:    0.038000    0.082000    0.428000    0.080000    0.032000    0.028000    0.274000    0.038000\n",
      "Iteration: 3 bestvalit: 0.008554 bestmemit:    0.038000    0.082000    0.428000    0.080000    0.032000    0.028000    0.274000    0.038000\n",
      "Iteration: 4 bestvalit: 0.008554 bestmemit:    0.038000    0.082000    0.428000    0.080000    0.032000    0.028000    0.274000    0.038000\n",
      "Iteration: 5 bestvalit: 0.008554 bestmemit:    0.038000    0.082000    0.428000    0.080000    0.032000    0.028000    0.274000    0.038000\n",
      "Iteration: 6 bestvalit: 0.008554 bestmemit:    0.038000    0.082000    0.428000    0.080000    0.032000    0.028000    0.274000    0.038000\n",
      "Iteration: 7 bestvalit: 0.008554 bestmemit:    0.038000    0.082000    0.428000    0.080000    0.032000    0.028000    0.274000    0.038000\n",
      "Iteration: 8 bestvalit: 0.008554 bestmemit:    0.038000    0.082000    0.428000    0.080000    0.032000    0.028000    0.274000    0.038000\n",
      "Iteration: 9 bestvalit: 0.008554 bestmemit:    0.038000    0.082000    0.428000    0.080000    0.032000    0.028000    0.274000    0.038000\n",
      "Iteration: 10 bestvalit: 0.008554 bestmemit:    0.038000    0.082000    0.428000    0.080000    0.032000    0.028000    0.274000    0.038000\n",
      "Iteration: 11 bestvalit: 0.008554 bestmemit:    0.038000    0.082000    0.428000    0.080000    0.032000    0.028000    0.274000    0.038000\n",
      "Iteration: 12 bestvalit: 0.008554 bestmemit:    0.038000    0.082000    0.428000    0.080000    0.032000    0.028000    0.274000    0.038000\n",
      "Iteration: 13 bestvalit: 0.008554 bestmemit:    0.038000    0.082000    0.428000    0.080000    0.032000    0.028000    0.274000    0.038000\n",
      "[1] 0.038 0.082 0.428 0.080 0.032 0.028 0.274 0.038\n"
     ]
    },
    {
     "name": "stderr",
     "output_type": "stream",
     "text": [
      "Leverage constraint min_sum and max_sum are restrictive, \n",
      "              consider relaxing. e.g. 'full_investment' constraint should be min_sum=0.99 and max_sum=1.01\n"
     ]
    },
    {
     "name": "stdout",
     "output_type": "stream",
     "text": [
      "Iteration: 1 bestvalit: 0.006610 bestmemit:    0.124000    0.096000    0.446000    0.074000    0.002000    0.142000    0.116000    0.000000\n",
      "Iteration: 2 bestvalit: 0.006610 bestmemit:    0.124000    0.096000    0.446000    0.074000    0.002000    0.142000    0.116000    0.000000\n",
      "Iteration: 3 bestvalit: 0.006610 bestmemit:    0.124000    0.096000    0.446000    0.074000    0.002000    0.142000    0.116000    0.000000\n",
      "Iteration: 4 bestvalit: 0.006610 bestmemit:    0.124000    0.096000    0.446000    0.074000    0.002000    0.142000    0.116000    0.000000\n",
      "Iteration: 5 bestvalit: 0.006610 bestmemit:    0.124000    0.096000    0.446000    0.074000    0.002000    0.142000    0.116000    0.000000\n",
      "Iteration: 6 bestvalit: 0.006610 bestmemit:    0.124000    0.096000    0.446000    0.074000    0.002000    0.142000    0.116000    0.000000\n",
      "Iteration: 7 bestvalit: 0.006610 bestmemit:    0.124000    0.096000    0.446000    0.074000    0.002000    0.142000    0.116000    0.000000\n",
      "Iteration: 8 bestvalit: 0.006610 bestmemit:    0.124000    0.096000    0.446000    0.074000    0.002000    0.142000    0.116000    0.000000\n",
      "Iteration: 9 bestvalit: 0.006610 bestmemit:    0.124000    0.096000    0.446000    0.074000    0.002000    0.142000    0.116000    0.000000\n",
      "Iteration: 10 bestvalit: 0.006610 bestmemit:    0.124000    0.096000    0.446000    0.074000    0.002000    0.142000    0.116000    0.000000\n",
      "Iteration: 11 bestvalit: 0.006610 bestmemit:    0.124000    0.096000    0.446000    0.074000    0.002000    0.142000    0.116000    0.000000\n",
      "Iteration: 12 bestvalit: 0.006610 bestmemit:    0.124000    0.096000    0.446000    0.074000    0.002000    0.142000    0.116000    0.000000\n",
      "Iteration: 13 bestvalit: 0.006610 bestmemit:    0.124000    0.096000    0.446000    0.074000    0.002000    0.142000    0.116000    0.000000\n",
      "Iteration: 14 bestvalit: 0.006610 bestmemit:    0.124000    0.096000    0.446000    0.074000    0.002000    0.142000    0.116000    0.000000\n",
      "[1] 0.124 0.096 0.446 0.074 0.002 0.142 0.116 0.000\n"
     ]
    },
    {
     "name": "stderr",
     "output_type": "stream",
     "text": [
      "Leverage constraint min_sum and max_sum are restrictive, \n",
      "              consider relaxing. e.g. 'full_investment' constraint should be min_sum=0.99 and max_sum=1.01\n"
     ]
    },
    {
     "name": "stdout",
     "output_type": "stream",
     "text": [
      "Iteration: 1 bestvalit: 0.011127 bestmemit:    0.164000    0.100000    0.046000    0.154000    0.034000    0.108000    0.390000    0.004000\n",
      "Iteration: 2 bestvalit: 0.010899 bestmemit:    0.010000    0.298000    0.008000    0.314000    0.000000    0.000000    0.350000    0.020000\n",
      "Iteration: 3 bestvalit: 0.010601 bestmemit:    0.340000    0.408000    0.068000    0.056000    0.004000    0.000000    0.014000    0.110000\n",
      "Iteration: 4 bestvalit: 0.010014 bestmemit:    0.044000    0.322000    0.024000    0.038000    0.000000    0.272000    0.292000    0.008000\n",
      "Iteration: 5 bestvalit: 0.010014 bestmemit:    0.044000    0.322000    0.024000    0.038000    0.000000    0.272000    0.292000    0.008000\n",
      "Iteration: 6 bestvalit: 0.010014 bestmemit:    0.044000    0.322000    0.024000    0.038000    0.000000    0.272000    0.292000    0.008000\n",
      "Iteration: 7 bestvalit: 0.010014 bestmemit:    0.044000    0.322000    0.024000    0.038000    0.000000    0.272000    0.292000    0.008000\n",
      "Iteration: 8 bestvalit: 0.010014 bestmemit:    0.044000    0.322000    0.024000    0.038000    0.000000    0.272000    0.292000    0.008000\n",
      "Iteration: 9 bestvalit: 0.010014 bestmemit:    0.044000    0.322000    0.024000    0.038000    0.000000    0.272000    0.292000    0.008000\n",
      "Iteration: 10 bestvalit: 0.010014 bestmemit:    0.044000    0.322000    0.024000    0.038000    0.000000    0.272000    0.292000    0.008000\n",
      "Iteration: 11 bestvalit: 0.010014 bestmemit:    0.044000    0.322000    0.024000    0.038000    0.000000    0.272000    0.292000    0.008000\n",
      "Iteration: 12 bestvalit: 0.010014 bestmemit:    0.044000    0.322000    0.024000    0.038000    0.000000    0.272000    0.292000    0.008000\n",
      "Iteration: 13 bestvalit: 0.010014 bestmemit:    0.044000    0.322000    0.024000    0.038000    0.000000    0.272000    0.292000    0.008000\n",
      "Iteration: 14 bestvalit: 0.010014 bestmemit:    0.044000    0.322000    0.024000    0.038000    0.000000    0.272000    0.292000    0.008000\n",
      "Iteration: 15 bestvalit: 0.010014 bestmemit:    0.044000    0.322000    0.024000    0.038000    0.000000    0.272000    0.292000    0.008000\n",
      "Iteration: 16 bestvalit: 0.010014 bestmemit:    0.044000    0.322000    0.024000    0.038000    0.000000    0.272000    0.292000    0.008000\n",
      "Iteration: 17 bestvalit: 0.010014 bestmemit:    0.044000    0.322000    0.024000    0.038000    0.000000    0.272000    0.292000    0.008000\n",
      "[1] 0.044 0.322 0.024 0.038 0.000 0.272 0.292 0.008\n"
     ]
    },
    {
     "name": "stderr",
     "output_type": "stream",
     "text": [
      "Leverage constraint min_sum and max_sum are restrictive, \n",
      "              consider relaxing. e.g. 'full_investment' constraint should be min_sum=0.99 and max_sum=1.01\n"
     ]
    },
    {
     "name": "stdout",
     "output_type": "stream",
     "text": [
      "Iteration: 1 bestvalit: 0.009916 bestmemit:    0.024000    0.316000    0.024000    0.092000    0.042000    0.248000    0.016000    0.238000\n",
      "Iteration: 2 bestvalit: 0.009482 bestmemit:    0.068000    0.250000    0.014000    0.258000    0.060000    0.140000    0.194000    0.016000\n",
      "Iteration: 3 bestvalit: 0.009482 bestmemit:    0.068000    0.250000    0.014000    0.258000    0.060000    0.140000    0.194000    0.016000\n",
      "Iteration: 4 bestvalit: 0.007619 bestmemit:    0.096000    0.434000    0.134000    0.008000    0.022000    0.004000    0.248000    0.054000\n",
      "Iteration: 5 bestvalit: 0.007619 bestmemit:    0.096000    0.434000    0.134000    0.008000    0.022000    0.004000    0.248000    0.054000\n",
      "Iteration: 6 bestvalit: 0.007619 bestmemit:    0.096000    0.434000    0.134000    0.008000    0.022000    0.004000    0.248000    0.054000\n",
      "Iteration: 7 bestvalit: 0.007619 bestmemit:    0.096000    0.434000    0.134000    0.008000    0.022000    0.004000    0.248000    0.054000\n",
      "Iteration: 8 bestvalit: 0.007619 bestmemit:    0.096000    0.434000    0.134000    0.008000    0.022000    0.004000    0.248000    0.054000\n",
      "Iteration: 9 bestvalit: 0.007619 bestmemit:    0.096000    0.434000    0.134000    0.008000    0.022000    0.004000    0.248000    0.054000\n",
      "Iteration: 10 bestvalit: 0.007619 bestmemit:    0.096000    0.434000    0.134000    0.008000    0.022000    0.004000    0.248000    0.054000\n",
      "Iteration: 11 bestvalit: 0.006948 bestmemit:    0.264000    0.324000    0.008000    0.024000    0.020000    0.074000    0.270000    0.016000\n",
      "Iteration: 12 bestvalit: 0.006948 bestmemit:    0.264000    0.324000    0.008000    0.024000    0.020000    0.074000    0.270000    0.016000\n",
      "Iteration: 13 bestvalit: 0.006948 bestmemit:    0.264000    0.324000    0.008000    0.024000    0.020000    0.074000    0.270000    0.016000\n",
      "Iteration: 14 bestvalit: 0.006948 bestmemit:    0.264000    0.324000    0.008000    0.024000    0.020000    0.074000    0.270000    0.016000\n",
      "Iteration: 15 bestvalit: 0.006948 bestmemit:    0.264000    0.324000    0.008000    0.024000    0.020000    0.074000    0.270000    0.016000\n",
      "Iteration: 16 bestvalit: 0.006948 bestmemit:    0.264000    0.324000    0.008000    0.024000    0.020000    0.074000    0.270000    0.016000\n",
      "Iteration: 17 bestvalit: 0.006948 bestmemit:    0.264000    0.324000    0.008000    0.024000    0.020000    0.074000    0.270000    0.016000\n",
      "Iteration: 18 bestvalit: 0.006948 bestmemit:    0.264000    0.324000    0.008000    0.024000    0.020000    0.074000    0.270000    0.016000\n",
      "Iteration: 19 bestvalit: 0.006948 bestmemit:    0.264000    0.324000    0.008000    0.024000    0.020000    0.074000    0.270000    0.016000\n",
      "Iteration: 20 bestvalit: 0.006948 bestmemit:    0.264000    0.324000    0.008000    0.024000    0.020000    0.074000    0.270000    0.016000\n",
      "Iteration: 21 bestvalit: 0.006948 bestmemit:    0.264000    0.324000    0.008000    0.024000    0.020000    0.074000    0.270000    0.016000\n",
      "Iteration: 22 bestvalit: 0.006948 bestmemit:    0.264000    0.324000    0.008000    0.024000    0.020000    0.074000    0.270000    0.016000\n",
      "Iteration: 23 bestvalit: 0.006948 bestmemit:    0.264000    0.324000    0.008000    0.024000    0.020000    0.074000    0.270000    0.016000\n",
      "Iteration: 24 bestvalit: 0.006948 bestmemit:    0.264000    0.324000    0.008000    0.024000    0.020000    0.074000    0.270000    0.016000\n",
      "[1] 0.264 0.324 0.008 0.024 0.020 0.074 0.270 0.016\n"
     ]
    },
    {
     "name": "stderr",
     "output_type": "stream",
     "text": [
      "Leverage constraint min_sum and max_sum are restrictive, \n",
      "              consider relaxing. e.g. 'full_investment' constraint should be min_sum=0.99 and max_sum=1.01\n"
     ]
    },
    {
     "name": "stdout",
     "output_type": "stream",
     "text": [
      "Iteration: 1 bestvalit: 0.008534 bestmemit:    0.270000    0.250000    0.000000    0.208000    0.022000    0.104000    0.134000    0.012000\n",
      "Iteration: 2 bestvalit: 0.008336 bestmemit:    0.078000    0.102000    0.120000    0.276000    0.020000    0.366000    0.000000    0.038000\n",
      "Iteration: 3 bestvalit: 0.008336 bestmemit:    0.078000    0.102000    0.120000    0.276000    0.020000    0.366000    0.000000    0.038000\n",
      "Iteration: 4 bestvalit: 0.007494 bestmemit:    0.000000    0.188000    0.468000    0.054000    0.084000    0.202000    0.004000    0.000000\n",
      "Iteration: 5 bestvalit: 0.007494 bestmemit:    0.000000    0.188000    0.468000    0.054000    0.084000    0.202000    0.004000    0.000000\n",
      "Iteration: 6 bestvalit: 0.007494 bestmemit:    0.000000    0.188000    0.468000    0.054000    0.084000    0.202000    0.004000    0.000000\n",
      "Iteration: 7 bestvalit: 0.007494 bestmemit:    0.000000    0.188000    0.468000    0.054000    0.084000    0.202000    0.004000    0.000000\n",
      "Iteration: 8 bestvalit: 0.007049 bestmemit:    0.038000    0.066000    0.256000    0.012000    0.012000    0.414000    0.048000    0.154000\n",
      "Iteration: 9 bestvalit: 0.006958 bestmemit:    0.022000    0.146000    0.200000    0.218000    0.006000    0.322000    0.048000    0.038000\n",
      "Iteration: 10 bestvalit: 0.006958 bestmemit:    0.022000    0.146000    0.200000    0.218000    0.006000    0.322000    0.048000    0.038000\n",
      "Iteration: 11 bestvalit: 0.005837 bestmemit:    0.006000    0.384000    0.000000    0.000000    0.028000    0.336000    0.016000    0.230000\n",
      "Iteration: 12 bestvalit: 0.005837 bestmemit:    0.006000    0.384000    0.000000    0.000000    0.028000    0.336000    0.016000    0.230000\n",
      "Iteration: 13 bestvalit: 0.005837 bestmemit:    0.006000    0.384000    0.000000    0.000000    0.028000    0.336000    0.016000    0.230000\n",
      "Iteration: 14 bestvalit: 0.005837 bestmemit:    0.006000    0.384000    0.000000    0.000000    0.028000    0.336000    0.016000    0.230000\n",
      "Iteration: 15 bestvalit: 0.005837 bestmemit:    0.006000    0.384000    0.000000    0.000000    0.028000    0.336000    0.016000    0.230000\n",
      "Iteration: 16 bestvalit: 0.005837 bestmemit:    0.006000    0.384000    0.000000    0.000000    0.028000    0.336000    0.016000    0.230000\n",
      "Iteration: 17 bestvalit: 0.005837 bestmemit:    0.006000    0.384000    0.000000    0.000000    0.028000    0.336000    0.016000    0.230000\n",
      "Iteration: 18 bestvalit: 0.005837 bestmemit:    0.006000    0.384000    0.000000    0.000000    0.028000    0.336000    0.016000    0.230000\n",
      "Iteration: 19 bestvalit: 0.005837 bestmemit:    0.006000    0.384000    0.000000    0.000000    0.028000    0.336000    0.016000    0.230000\n",
      "Iteration: 20 bestvalit: 0.005837 bestmemit:    0.006000    0.384000    0.000000    0.000000    0.028000    0.336000    0.016000    0.230000\n",
      "Iteration: 21 bestvalit: 0.005837 bestmemit:    0.006000    0.384000    0.000000    0.000000    0.028000    0.336000    0.016000    0.230000\n",
      "Iteration: 22 bestvalit: 0.005837 bestmemit:    0.006000    0.384000    0.000000    0.000000    0.028000    0.336000    0.016000    0.230000\n",
      "Iteration: 23 bestvalit: 0.005837 bestmemit:    0.006000    0.384000    0.000000    0.000000    0.028000    0.336000    0.016000    0.230000\n",
      "Iteration: 24 bestvalit: 0.005837 bestmemit:    0.006000    0.384000    0.000000    0.000000    0.028000    0.336000    0.016000    0.230000\n",
      "[1] 0.006 0.384 0.000 0.000 0.028 0.336 0.016 0.230\n"
     ]
    },
    {
     "name": "stderr",
     "output_type": "stream",
     "text": [
      "Leverage constraint min_sum and max_sum are restrictive, \n",
      "              consider relaxing. e.g. 'full_investment' constraint should be min_sum=0.99 and max_sum=1.01\n"
     ]
    },
    {
     "name": "stdout",
     "output_type": "stream",
     "text": [
      "Iteration: 1 bestvalit: 0.006870 bestmemit:    0.066000    0.080000    0.028000    0.126000    0.062000    0.348000    0.190000    0.100000\n",
      "Iteration: 2 bestvalit: 0.006870 bestmemit:    0.066000    0.080000    0.028000    0.126000    0.062000    0.348000    0.190000    0.100000\n",
      "Iteration: 3 bestvalit: 0.006870 bestmemit:    0.066000    0.080000    0.028000    0.126000    0.062000    0.348000    0.190000    0.100000\n",
      "Iteration: 4 bestvalit: 0.006870 bestmemit:    0.066000    0.080000    0.028000    0.126000    0.062000    0.348000    0.190000    0.100000\n",
      "Iteration: 5 bestvalit: 0.006870 bestmemit:    0.066000    0.080000    0.028000    0.126000    0.062000    0.348000    0.190000    0.100000\n",
      "Iteration: 6 bestvalit: 0.006870 bestmemit:    0.066000    0.080000    0.028000    0.126000    0.062000    0.348000    0.190000    0.100000\n",
      "Iteration: 7 bestvalit: 0.006870 bestmemit:    0.066000    0.080000    0.028000    0.126000    0.062000    0.348000    0.190000    0.100000\n",
      "Iteration: 8 bestvalit: 0.006602 bestmemit:    0.178000    0.006000    0.406000    0.020000    0.056000    0.134000    0.200000    0.000000\n",
      "Iteration: 9 bestvalit: 0.006602 bestmemit:    0.178000    0.006000    0.406000    0.020000    0.056000    0.134000    0.200000    0.000000\n",
      "Iteration: 10 bestvalit: 0.006602 bestmemit:    0.178000    0.006000    0.406000    0.020000    0.056000    0.134000    0.200000    0.000000\n",
      "Iteration: 11 bestvalit: 0.006602 bestmemit:    0.178000    0.006000    0.406000    0.020000    0.056000    0.134000    0.200000    0.000000\n",
      "Iteration: 12 bestvalit: 0.006602 bestmemit:    0.178000    0.006000    0.406000    0.020000    0.056000    0.134000    0.200000    0.000000\n",
      "Iteration: 13 bestvalit: 0.006602 bestmemit:    0.178000    0.006000    0.406000    0.020000    0.056000    0.134000    0.200000    0.000000\n",
      "Iteration: 14 bestvalit: 0.006602 bestmemit:    0.178000    0.006000    0.406000    0.020000    0.056000    0.134000    0.200000    0.000000\n",
      "Iteration: 15 bestvalit: 0.006602 bestmemit:    0.178000    0.006000    0.406000    0.020000    0.056000    0.134000    0.200000    0.000000\n",
      "Iteration: 16 bestvalit: 0.006602 bestmemit:    0.178000    0.006000    0.406000    0.020000    0.056000    0.134000    0.200000    0.000000\n",
      "Iteration: 17 bestvalit: 0.006602 bestmemit:    0.178000    0.006000    0.406000    0.020000    0.056000    0.134000    0.200000    0.000000\n",
      "Iteration: 18 bestvalit: 0.006602 bestmemit:    0.178000    0.006000    0.406000    0.020000    0.056000    0.134000    0.200000    0.000000\n",
      "Iteration: 19 bestvalit: 0.005994 bestmemit:    0.108000    0.306000    0.178000    0.000000    0.000000    0.160000    0.158000    0.090000\n",
      "Iteration: 20 bestvalit: 0.005994 bestmemit:    0.108000    0.306000    0.178000    0.000000    0.000000    0.160000    0.158000    0.090000\n",
      "Iteration: 21 bestvalit: 0.005994 bestmemit:    0.108000    0.306000    0.178000    0.000000    0.000000    0.160000    0.158000    0.090000\n",
      "Iteration: 22 bestvalit: 0.005994 bestmemit:    0.108000    0.306000    0.178000    0.000000    0.000000    0.160000    0.158000    0.090000\n",
      "Iteration: 23 bestvalit: 0.005994 bestmemit:    0.108000    0.306000    0.178000    0.000000    0.000000    0.160000    0.158000    0.090000\n",
      "Iteration: 24 bestvalit: 0.005994 bestmemit:    0.108000    0.306000    0.178000    0.000000    0.000000    0.160000    0.158000    0.090000\n",
      "Iteration: 25 bestvalit: 0.005994 bestmemit:    0.108000    0.306000    0.178000    0.000000    0.000000    0.160000    0.158000    0.090000\n",
      "Iteration: 26 bestvalit: 0.005994 bestmemit:    0.108000    0.306000    0.178000    0.000000    0.000000    0.160000    0.158000    0.090000\n",
      "Iteration: 27 bestvalit: 0.005994 bestmemit:    0.108000    0.306000    0.178000    0.000000    0.000000    0.160000    0.158000    0.090000\n",
      "Iteration: 28 bestvalit: 0.005994 bestmemit:    0.108000    0.306000    0.178000    0.000000    0.000000    0.160000    0.158000    0.090000\n",
      "Iteration: 29 bestvalit: 0.005579 bestmemit:    0.028000    0.120000    0.494000    0.000000    0.004000    0.052000    0.282000    0.020000\n",
      "Iteration: 30 bestvalit: 0.005579 bestmemit:    0.028000    0.120000    0.494000    0.000000    0.004000    0.052000    0.282000    0.020000\n",
      "Iteration: 31 bestvalit: 0.005579 bestmemit:    0.028000    0.120000    0.494000    0.000000    0.004000    0.052000    0.282000    0.020000\n",
      "Iteration: 32 bestvalit: 0.005579 bestmemit:    0.028000    0.120000    0.494000    0.000000    0.004000    0.052000    0.282000    0.020000\n",
      "Iteration: 33 bestvalit: 0.005579 bestmemit:    0.028000    0.120000    0.494000    0.000000    0.004000    0.052000    0.282000    0.020000\n",
      "Iteration: 34 bestvalit: 0.005579 bestmemit:    0.028000    0.120000    0.494000    0.000000    0.004000    0.052000    0.282000    0.020000\n",
      "Iteration: 35 bestvalit: 0.005579 bestmemit:    0.028000    0.120000    0.494000    0.000000    0.004000    0.052000    0.282000    0.020000\n",
      "Iteration: 36 bestvalit: 0.005579 bestmemit:    0.028000    0.120000    0.494000    0.000000    0.004000    0.052000    0.282000    0.020000\n",
      "Iteration: 37 bestvalit: 0.005579 bestmemit:    0.028000    0.120000    0.494000    0.000000    0.004000    0.052000    0.282000    0.020000\n",
      "Iteration: 38 bestvalit: 0.005579 bestmemit:    0.028000    0.120000    0.494000    0.000000    0.004000    0.052000    0.282000    0.020000\n",
      "Iteration: 39 bestvalit: 0.005579 bestmemit:    0.028000    0.120000    0.494000    0.000000    0.004000    0.052000    0.282000    0.020000\n",
      "Iteration: 40 bestvalit: 0.005579 bestmemit:    0.028000    0.120000    0.494000    0.000000    0.004000    0.052000    0.282000    0.020000\n",
      "Iteration: 41 bestvalit: 0.005579 bestmemit:    0.028000    0.120000    0.494000    0.000000    0.004000    0.052000    0.282000    0.020000\n",
      "Iteration: 42 bestvalit: 0.005579 bestmemit:    0.028000    0.120000    0.494000    0.000000    0.004000    0.052000    0.282000    0.020000\n",
      "[1] 0.028 0.120 0.494 0.000 0.004 0.052 0.282 0.020\n"
     ]
    },
    {
     "name": "stderr",
     "output_type": "stream",
     "text": [
      "Leverage constraint min_sum and max_sum are restrictive, \n",
      "              consider relaxing. e.g. 'full_investment' constraint should be min_sum=0.99 and max_sum=1.01\n"
     ]
    },
    {
     "name": "stdout",
     "output_type": "stream",
     "text": [
      "Iteration: 1 bestvalit: 0.006226 bestmemit:    0.110000    0.338000    0.022000    0.018000    0.012000    0.176000    0.310000    0.014000\n",
      "Iteration: 2 bestvalit: 0.006226 bestmemit:    0.110000    0.338000    0.022000    0.018000    0.012000    0.176000    0.310000    0.014000\n",
      "Iteration: 3 bestvalit: 0.006226 bestmemit:    0.110000    0.338000    0.022000    0.018000    0.012000    0.176000    0.310000    0.014000\n",
      "Iteration: 4 bestvalit: 0.006226 bestmemit:    0.110000    0.338000    0.022000    0.018000    0.012000    0.176000    0.310000    0.014000\n",
      "Iteration: 5 bestvalit: 0.006226 bestmemit:    0.110000    0.338000    0.022000    0.018000    0.012000    0.176000    0.310000    0.014000\n",
      "Iteration: 6 bestvalit: 0.006226 bestmemit:    0.110000    0.338000    0.022000    0.018000    0.012000    0.176000    0.310000    0.014000\n",
      "Iteration: 7 bestvalit: 0.005700 bestmemit:    0.022000    0.302000    0.320000    0.002000    0.008000    0.000000    0.276000    0.070000\n",
      "Iteration: 8 bestvalit: 0.005700 bestmemit:    0.022000    0.302000    0.320000    0.002000    0.008000    0.000000    0.276000    0.070000\n",
      "Iteration: 9 bestvalit: 0.005700 bestmemit:    0.022000    0.302000    0.320000    0.002000    0.008000    0.000000    0.276000    0.070000\n",
      "Iteration: 10 bestvalit: 0.005700 bestmemit:    0.022000    0.302000    0.320000    0.002000    0.008000    0.000000    0.276000    0.070000\n",
      "Iteration: 11 bestvalit: 0.005700 bestmemit:    0.022000    0.302000    0.320000    0.002000    0.008000    0.000000    0.276000    0.070000\n",
      "Iteration: 12 bestvalit: 0.005700 bestmemit:    0.022000    0.302000    0.320000    0.002000    0.008000    0.000000    0.276000    0.070000\n",
      "Iteration: 13 bestvalit: 0.005700 bestmemit:    0.022000    0.302000    0.320000    0.002000    0.008000    0.000000    0.276000    0.070000\n",
      "Iteration: 14 bestvalit: 0.005700 bestmemit:    0.022000    0.302000    0.320000    0.002000    0.008000    0.000000    0.276000    0.070000\n",
      "Iteration: 15 bestvalit: 0.005700 bestmemit:    0.022000    0.302000    0.320000    0.002000    0.008000    0.000000    0.276000    0.070000\n",
      "Iteration: 16 bestvalit: 0.005700 bestmemit:    0.022000    0.302000    0.320000    0.002000    0.008000    0.000000    0.276000    0.070000\n",
      "Iteration: 17 bestvalit: 0.005700 bestmemit:    0.022000    0.302000    0.320000    0.002000    0.008000    0.000000    0.276000    0.070000\n",
      "Iteration: 18 bestvalit: 0.005578 bestmemit:    0.110000    0.364000    0.140000    0.004000    0.004000    0.374000    0.000000    0.004000\n",
      "Iteration: 19 bestvalit: 0.005578 bestmemit:    0.110000    0.364000    0.140000    0.004000    0.004000    0.374000    0.000000    0.004000\n",
      "Iteration: 20 bestvalit: 0.005482 bestmemit:    0.038000    0.404000    0.474000    0.032000    0.002000    0.008000    0.028000    0.014000\n",
      "Iteration: 21 bestvalit: 0.005482 bestmemit:    0.038000    0.404000    0.474000    0.032000    0.002000    0.008000    0.028000    0.014000\n",
      "Iteration: 22 bestvalit: 0.005482 bestmemit:    0.038000    0.404000    0.474000    0.032000    0.002000    0.008000    0.028000    0.014000\n",
      "Iteration: 23 bestvalit: 0.005482 bestmemit:    0.038000    0.404000    0.474000    0.032000    0.002000    0.008000    0.028000    0.014000\n",
      "Iteration: 24 bestvalit: 0.005482 bestmemit:    0.038000    0.404000    0.474000    0.032000    0.002000    0.008000    0.028000    0.014000\n",
      "Iteration: 25 bestvalit: 0.005482 bestmemit:    0.038000    0.404000    0.474000    0.032000    0.002000    0.008000    0.028000    0.014000\n",
      "Iteration: 26 bestvalit: 0.005482 bestmemit:    0.038000    0.404000    0.474000    0.032000    0.002000    0.008000    0.028000    0.014000\n",
      "Iteration: 27 bestvalit: 0.005482 bestmemit:    0.038000    0.404000    0.474000    0.032000    0.002000    0.008000    0.028000    0.014000\n",
      "Iteration: 28 bestvalit: 0.005482 bestmemit:    0.038000    0.404000    0.474000    0.032000    0.002000    0.008000    0.028000    0.014000\n",
      "Iteration: 29 bestvalit: 0.005482 bestmemit:    0.038000    0.404000    0.474000    0.032000    0.002000    0.008000    0.028000    0.014000\n",
      "Iteration: 30 bestvalit: 0.005482 bestmemit:    0.038000    0.404000    0.474000    0.032000    0.002000    0.008000    0.028000    0.014000\n",
      "Iteration: 31 bestvalit: 0.005482 bestmemit:    0.038000    0.404000    0.474000    0.032000    0.002000    0.008000    0.028000    0.014000\n",
      "Iteration: 32 bestvalit: 0.005482 bestmemit:    0.038000    0.404000    0.474000    0.032000    0.002000    0.008000    0.028000    0.014000\n",
      "Iteration: 33 bestvalit: 0.005482 bestmemit:    0.038000    0.404000    0.474000    0.032000    0.002000    0.008000    0.028000    0.014000\n",
      "[1] 0.038 0.404 0.474 0.032 0.002 0.008 0.028 0.014\n"
     ]
    },
    {
     "name": "stderr",
     "output_type": "stream",
     "text": [
      "Leverage constraint min_sum and max_sum are restrictive, \n",
      "              consider relaxing. e.g. 'full_investment' constraint should be min_sum=0.99 and max_sum=1.01\n"
     ]
    },
    {
     "name": "stdout",
     "output_type": "stream",
     "text": [
      "Iteration: 1 bestvalit: 0.005723 bestmemit:    0.062000    0.016000    0.370000    0.016000    0.008000    0.292000    0.060000    0.176000\n",
      "Iteration: 2 bestvalit: 0.005723 bestmemit:    0.062000    0.016000    0.370000    0.016000    0.008000    0.292000    0.060000    0.176000\n",
      "Iteration: 3 bestvalit: 0.005723 bestmemit:    0.062000    0.016000    0.370000    0.016000    0.008000    0.292000    0.060000    0.176000\n",
      "Iteration: 4 bestvalit: 0.005723 bestmemit:    0.062000    0.016000    0.370000    0.016000    0.008000    0.292000    0.060000    0.176000\n",
      "Iteration: 5 bestvalit: 0.005256 bestmemit:    0.386000    0.036000    0.018000    0.002000    0.022000    0.414000    0.028000    0.094000\n",
      "Iteration: 6 bestvalit: 0.005256 bestmemit:    0.386000    0.036000    0.018000    0.002000    0.022000    0.414000    0.028000    0.094000\n",
      "Iteration: 7 bestvalit: 0.005256 bestmemit:    0.386000    0.036000    0.018000    0.002000    0.022000    0.414000    0.028000    0.094000\n",
      "Iteration: 8 bestvalit: 0.005256 bestmemit:    0.386000    0.036000    0.018000    0.002000    0.022000    0.414000    0.028000    0.094000\n",
      "Iteration: 9 bestvalit: 0.005146 bestmemit:    0.312000    0.420000    0.246000    0.000000    0.012000    0.000000    0.002000    0.008000\n",
      "Iteration: 10 bestvalit: 0.005146 bestmemit:    0.312000    0.420000    0.246000    0.000000    0.012000    0.000000    0.002000    0.008000\n",
      "Iteration: 11 bestvalit: 0.004822 bestmemit:    0.200000    0.402000    0.020000    0.004000    0.010000    0.336000    0.006000    0.022000\n",
      "Iteration: 12 bestvalit: 0.004822 bestmemit:    0.200000    0.402000    0.020000    0.004000    0.010000    0.336000    0.006000    0.022000\n",
      "Iteration: 13 bestvalit: 0.004822 bestmemit:    0.200000    0.402000    0.020000    0.004000    0.010000    0.336000    0.006000    0.022000\n",
      "Iteration: 14 bestvalit: 0.004822 bestmemit:    0.200000    0.402000    0.020000    0.004000    0.010000    0.336000    0.006000    0.022000\n",
      "Iteration: 15 bestvalit: 0.004822 bestmemit:    0.200000    0.402000    0.020000    0.004000    0.010000    0.336000    0.006000    0.022000\n",
      "Iteration: 16 bestvalit: 0.004822 bestmemit:    0.200000    0.402000    0.020000    0.004000    0.010000    0.336000    0.006000    0.022000\n",
      "Iteration: 17 bestvalit: 0.004822 bestmemit:    0.200000    0.402000    0.020000    0.004000    0.010000    0.336000    0.006000    0.022000\n",
      "Iteration: 18 bestvalit: 0.004822 bestmemit:    0.200000    0.402000    0.020000    0.004000    0.010000    0.336000    0.006000    0.022000\n",
      "Iteration: 19 bestvalit: 0.004822 bestmemit:    0.200000    0.402000    0.020000    0.004000    0.010000    0.336000    0.006000    0.022000\n",
      "Iteration: 20 bestvalit: 0.004822 bestmemit:    0.200000    0.402000    0.020000    0.004000    0.010000    0.336000    0.006000    0.022000\n",
      "Iteration: 21 bestvalit: 0.004822 bestmemit:    0.200000    0.402000    0.020000    0.004000    0.010000    0.336000    0.006000    0.022000\n",
      "Iteration: 22 bestvalit: 0.004822 bestmemit:    0.200000    0.402000    0.020000    0.004000    0.010000    0.336000    0.006000    0.022000\n",
      "Iteration: 23 bestvalit: 0.004822 bestmemit:    0.200000    0.402000    0.020000    0.004000    0.010000    0.336000    0.006000    0.022000\n",
      "Iteration: 24 bestvalit: 0.004822 bestmemit:    0.200000    0.402000    0.020000    0.004000    0.010000    0.336000    0.006000    0.022000\n",
      "[1] 0.200 0.402 0.020 0.004 0.010 0.336 0.006 0.022\n"
     ]
    },
    {
     "name": "stderr",
     "output_type": "stream",
     "text": [
      "Leverage constraint min_sum and max_sum are restrictive, \n",
      "              consider relaxing. e.g. 'full_investment' constraint should be min_sum=0.99 and max_sum=1.01\n"
     ]
    },
    {
     "name": "stdout",
     "output_type": "stream",
     "text": [
      "Iteration: 1 bestvalit: 0.007564 bestmemit:    0.320000    0.236000    0.176000    0.032000    0.012000    0.012000    0.148000    0.064000\n",
      "Iteration: 2 bestvalit: 0.007564 bestmemit:    0.320000    0.236000    0.176000    0.032000    0.012000    0.012000    0.148000    0.064000\n",
      "Iteration: 3 bestvalit: 0.007539 bestmemit:    0.342000    0.078000    0.466000    0.018000    0.010000    0.006000    0.076000    0.004000\n",
      "Iteration: 4 bestvalit: 0.007539 bestmemit:    0.342000    0.078000    0.466000    0.018000    0.010000    0.006000    0.076000    0.004000\n",
      "Iteration: 5 bestvalit: 0.007539 bestmemit:    0.342000    0.078000    0.466000    0.018000    0.010000    0.006000    0.076000    0.004000\n",
      "Iteration: 6 bestvalit: 0.007539 bestmemit:    0.342000    0.078000    0.466000    0.018000    0.010000    0.006000    0.076000    0.004000\n",
      "Iteration: 7 bestvalit: 0.007539 bestmemit:    0.342000    0.078000    0.466000    0.018000    0.010000    0.006000    0.076000    0.004000\n",
      "Iteration: 8 bestvalit: 0.006718 bestmemit:    0.120000    0.016000    0.166000    0.002000    0.002000    0.364000    0.330000    0.000000\n",
      "Iteration: 9 bestvalit: 0.006718 bestmemit:    0.120000    0.016000    0.166000    0.002000    0.002000    0.364000    0.330000    0.000000\n",
      "Iteration: 10 bestvalit: 0.006718 bestmemit:    0.120000    0.016000    0.166000    0.002000    0.002000    0.364000    0.330000    0.000000\n",
      "Iteration: 11 bestvalit: 0.006718 bestmemit:    0.120000    0.016000    0.166000    0.002000    0.002000    0.364000    0.330000    0.000000\n",
      "Iteration: 12 bestvalit: 0.006718 bestmemit:    0.120000    0.016000    0.166000    0.002000    0.002000    0.364000    0.330000    0.000000\n",
      "Iteration: 13 bestvalit: 0.006718 bestmemit:    0.120000    0.016000    0.166000    0.002000    0.002000    0.364000    0.330000    0.000000\n",
      "Iteration: 14 bestvalit: 0.006718 bestmemit:    0.120000    0.016000    0.166000    0.002000    0.002000    0.364000    0.330000    0.000000\n",
      "Iteration: 15 bestvalit: 0.006718 bestmemit:    0.120000    0.016000    0.166000    0.002000    0.002000    0.364000    0.330000    0.000000\n",
      "Iteration: 16 bestvalit: 0.006718 bestmemit:    0.120000    0.016000    0.166000    0.002000    0.002000    0.364000    0.330000    0.000000\n",
      "Iteration: 17 bestvalit: 0.006718 bestmemit:    0.120000    0.016000    0.166000    0.002000    0.002000    0.364000    0.330000    0.000000\n",
      "Iteration: 18 bestvalit: 0.006718 bestmemit:    0.120000    0.016000    0.166000    0.002000    0.002000    0.364000    0.330000    0.000000\n",
      "Iteration: 19 bestvalit: 0.006718 bestmemit:    0.120000    0.016000    0.166000    0.002000    0.002000    0.364000    0.330000    0.000000\n",
      "Iteration: 20 bestvalit: 0.006718 bestmemit:    0.120000    0.016000    0.166000    0.002000    0.002000    0.364000    0.330000    0.000000\n",
      "Iteration: 21 bestvalit: 0.006718 bestmemit:    0.120000    0.016000    0.166000    0.002000    0.002000    0.364000    0.330000    0.000000\n",
      "[1] 0.120 0.016 0.166 0.002 0.002 0.364 0.330 0.000\n"
     ]
    },
    {
     "name": "stderr",
     "output_type": "stream",
     "text": [
      "Leverage constraint min_sum and max_sum are restrictive, \n",
      "              consider relaxing. e.g. 'full_investment' constraint should be min_sum=0.99 and max_sum=1.01\n"
     ]
    },
    {
     "name": "stdout",
     "output_type": "stream",
     "text": [
      "Iteration: 1 bestvalit: 0.011266 bestmemit:    0.114000    0.054000    0.322000    0.004000    0.048000    0.022000    0.320000    0.116000\n",
      "Iteration: 2 bestvalit: 0.011266 bestmemit:    0.114000    0.054000    0.322000    0.004000    0.048000    0.022000    0.320000    0.116000\n",
      "Iteration: 3 bestvalit: 0.010278 bestmemit:    0.118000    0.020000    0.086000    0.210000    0.002000    0.174000    0.298000    0.092000\n",
      "Iteration: 4 bestvalit: 0.010278 bestmemit:    0.118000    0.020000    0.086000    0.210000    0.002000    0.174000    0.298000    0.092000\n",
      "Iteration: 5 bestvalit: 0.010278 bestmemit:    0.118000    0.020000    0.086000    0.210000    0.002000    0.174000    0.298000    0.092000\n",
      "Iteration: 6 bestvalit: 0.010278 bestmemit:    0.118000    0.020000    0.086000    0.210000    0.002000    0.174000    0.298000    0.092000\n",
      "Iteration: 7 bestvalit: 0.010278 bestmemit:    0.118000    0.020000    0.086000    0.210000    0.002000    0.174000    0.298000    0.092000\n",
      "Iteration: 8 bestvalit: 0.010278 bestmemit:    0.118000    0.020000    0.086000    0.210000    0.002000    0.174000    0.298000    0.092000\n",
      "Iteration: 9 bestvalit: 0.010278 bestmemit:    0.118000    0.020000    0.086000    0.210000    0.002000    0.174000    0.298000    0.092000\n",
      "Iteration: 10 bestvalit: 0.009833 bestmemit:    0.166000    0.098000    0.236000    0.318000    0.024000    0.014000    0.144000    0.000000\n",
      "Iteration: 11 bestvalit: 0.009833 bestmemit:    0.166000    0.098000    0.236000    0.318000    0.024000    0.014000    0.144000    0.000000\n",
      "Iteration: 12 bestvalit: 0.009833 bestmemit:    0.166000    0.098000    0.236000    0.318000    0.024000    0.014000    0.144000    0.000000\n",
      "Iteration: 13 bestvalit: 0.009833 bestmemit:    0.166000    0.098000    0.236000    0.318000    0.024000    0.014000    0.144000    0.000000\n",
      "Iteration: 14 bestvalit: 0.009833 bestmemit:    0.166000    0.098000    0.236000    0.318000    0.024000    0.014000    0.144000    0.000000\n",
      "Iteration: 15 bestvalit: 0.009833 bestmemit:    0.166000    0.098000    0.236000    0.318000    0.024000    0.014000    0.144000    0.000000\n",
      "Iteration: 16 bestvalit: 0.009833 bestmemit:    0.166000    0.098000    0.236000    0.318000    0.024000    0.014000    0.144000    0.000000\n",
      "Iteration: 17 bestvalit: 0.009640 bestmemit:    0.346000    0.010000    0.254000    0.318000    0.008000    0.062000    0.002000    0.000000\n",
      "Iteration: 18 bestvalit: 0.009640 bestmemit:    0.346000    0.010000    0.254000    0.318000    0.008000    0.062000    0.002000    0.000000\n",
      "Iteration: 19 bestvalit: 0.009640 bestmemit:    0.346000    0.010000    0.254000    0.318000    0.008000    0.062000    0.002000    0.000000\n",
      "Iteration: 20 bestvalit: 0.008859 bestmemit:    0.406000    0.042000    0.000000    0.036000    0.000000    0.262000    0.254000    0.000000\n",
      "Iteration: 21 bestvalit: 0.008859 bestmemit:    0.406000    0.042000    0.000000    0.036000    0.000000    0.262000    0.254000    0.000000\n",
      "Iteration: 22 bestvalit: 0.008859 bestmemit:    0.406000    0.042000    0.000000    0.036000    0.000000    0.262000    0.254000    0.000000\n",
      "Iteration: 23 bestvalit: 0.008859 bestmemit:    0.406000    0.042000    0.000000    0.036000    0.000000    0.262000    0.254000    0.000000\n",
      "Iteration: 24 bestvalit: 0.008859 bestmemit:    0.406000    0.042000    0.000000    0.036000    0.000000    0.262000    0.254000    0.000000\n",
      "Iteration: 25 bestvalit: 0.008859 bestmemit:    0.406000    0.042000    0.000000    0.036000    0.000000    0.262000    0.254000    0.000000\n",
      "Iteration: 26 bestvalit: 0.008859 bestmemit:    0.406000    0.042000    0.000000    0.036000    0.000000    0.262000    0.254000    0.000000\n",
      "Iteration: 27 bestvalit: 0.008859 bestmemit:    0.406000    0.042000    0.000000    0.036000    0.000000    0.262000    0.254000    0.000000\n",
      "Iteration: 28 bestvalit: 0.008859 bestmemit:    0.406000    0.042000    0.000000    0.036000    0.000000    0.262000    0.254000    0.000000\n",
      "Iteration: 29 bestvalit: 0.008859 bestmemit:    0.406000    0.042000    0.000000    0.036000    0.000000    0.262000    0.254000    0.000000\n",
      "Iteration: 30 bestvalit: 0.008859 bestmemit:    0.406000    0.042000    0.000000    0.036000    0.000000    0.262000    0.254000    0.000000\n",
      "Iteration: 31 bestvalit: 0.008859 bestmemit:    0.406000    0.042000    0.000000    0.036000    0.000000    0.262000    0.254000    0.000000\n",
      "Iteration: 32 bestvalit: 0.008859 bestmemit:    0.406000    0.042000    0.000000    0.036000    0.000000    0.262000    0.254000    0.000000\n",
      "Iteration: 33 bestvalit: 0.008859 bestmemit:    0.406000    0.042000    0.000000    0.036000    0.000000    0.262000    0.254000    0.000000\n",
      "[1] 0.406 0.042 0.000 0.036 0.000 0.262 0.254 0.000\n"
     ]
    },
    {
     "name": "stderr",
     "output_type": "stream",
     "text": [
      "Leverage constraint min_sum and max_sum are restrictive, \n",
      "              consider relaxing. e.g. 'full_investment' constraint should be min_sum=0.99 and max_sum=1.01\n"
     ]
    },
    {
     "name": "stdout",
     "output_type": "stream",
     "text": [
      "Iteration: 1 bestvalit: 0.006958 bestmemit:    0.352000    0.320000    0.006000    0.218000    0.000000    0.096000    0.008000    0.000000\n",
      "Iteration: 2 bestvalit: 0.006958 bestmemit:    0.352000    0.320000    0.006000    0.218000    0.000000    0.096000    0.008000    0.000000\n",
      "Iteration: 3 bestvalit: 0.006958 bestmemit:    0.352000    0.320000    0.006000    0.218000    0.000000    0.096000    0.008000    0.000000\n",
      "Iteration: 4 bestvalit: 0.006958 bestmemit:    0.352000    0.320000    0.006000    0.218000    0.000000    0.096000    0.008000    0.000000\n",
      "Iteration: 5 bestvalit: 0.006958 bestmemit:    0.352000    0.320000    0.006000    0.218000    0.000000    0.096000    0.008000    0.000000\n",
      "Iteration: 6 bestvalit: 0.006958 bestmemit:    0.352000    0.320000    0.006000    0.218000    0.000000    0.096000    0.008000    0.000000\n",
      "Iteration: 7 bestvalit: 0.006958 bestmemit:    0.352000    0.320000    0.006000    0.218000    0.000000    0.096000    0.008000    0.000000\n",
      "Iteration: 8 bestvalit: 0.006953 bestmemit:    0.338000    0.000000    0.094000    0.130000    0.026000    0.168000    0.176000    0.068000\n",
      "Iteration: 9 bestvalit: 0.006953 bestmemit:    0.338000    0.000000    0.094000    0.130000    0.026000    0.168000    0.176000    0.068000\n",
      "Iteration: 10 bestvalit: 0.006953 bestmemit:    0.338000    0.000000    0.094000    0.130000    0.026000    0.168000    0.176000    0.068000\n",
      "Iteration: 11 bestvalit: 0.006953 bestmemit:    0.338000    0.000000    0.094000    0.130000    0.026000    0.168000    0.176000    0.068000\n",
      "Iteration: 12 bestvalit: 0.006953 bestmemit:    0.338000    0.000000    0.094000    0.130000    0.026000    0.168000    0.176000    0.068000\n",
      "Iteration: 13 bestvalit: 0.006953 bestmemit:    0.338000    0.000000    0.094000    0.130000    0.026000    0.168000    0.176000    0.068000\n",
      "Iteration: 14 bestvalit: 0.006953 bestmemit:    0.338000    0.000000    0.094000    0.130000    0.026000    0.168000    0.176000    0.068000\n",
      "Iteration: 15 bestvalit: 0.006953 bestmemit:    0.338000    0.000000    0.094000    0.130000    0.026000    0.168000    0.176000    0.068000\n",
      "Iteration: 16 bestvalit: 0.006953 bestmemit:    0.338000    0.000000    0.094000    0.130000    0.026000    0.168000    0.176000    0.068000\n",
      "Iteration: 17 bestvalit: 0.006953 bestmemit:    0.338000    0.000000    0.094000    0.130000    0.026000    0.168000    0.176000    0.068000\n",
      "Iteration: 18 bestvalit: 0.006953 bestmemit:    0.338000    0.000000    0.094000    0.130000    0.026000    0.168000    0.176000    0.068000\n",
      "Iteration: 19 bestvalit: 0.006953 bestmemit:    0.338000    0.000000    0.094000    0.130000    0.026000    0.168000    0.176000    0.068000\n",
      "Iteration: 20 bestvalit: 0.006953 bestmemit:    0.338000    0.000000    0.094000    0.130000    0.026000    0.168000    0.176000    0.068000\n",
      "Iteration: 21 bestvalit: 0.006953 bestmemit:    0.338000    0.000000    0.094000    0.130000    0.026000    0.168000    0.176000    0.068000\n",
      "[1] 0.338 0.000 0.094 0.130 0.026 0.168 0.176 0.068\n"
     ]
    },
    {
     "name": "stderr",
     "output_type": "stream",
     "text": [
      "Leverage constraint min_sum and max_sum are restrictive, \n",
      "              consider relaxing. e.g. 'full_investment' constraint should be min_sum=0.99 and max_sum=1.01\n"
     ]
    },
    {
     "name": "stdout",
     "output_type": "stream",
     "text": [
      "Iteration: 1 bestvalit: 0.009109 bestmemit:    0.056000    0.076000    0.006000    0.168000    0.010000    0.144000    0.470000    0.070000\n",
      "Iteration: 2 bestvalit: 0.009109 bestmemit:    0.056000    0.076000    0.006000    0.168000    0.010000    0.144000    0.470000    0.070000\n",
      "Iteration: 3 bestvalit: 0.009109 bestmemit:    0.056000    0.076000    0.006000    0.168000    0.010000    0.144000    0.470000    0.070000\n",
      "Iteration: 4 bestvalit: 0.009109 bestmemit:    0.056000    0.076000    0.006000    0.168000    0.010000    0.144000    0.470000    0.070000\n",
      "Iteration: 5 bestvalit: 0.008296 bestmemit:    0.162000    0.078000    0.010000    0.004000    0.000000    0.242000    0.458000    0.046000\n",
      "Iteration: 6 bestvalit: 0.008296 bestmemit:    0.162000    0.078000    0.010000    0.004000    0.000000    0.242000    0.458000    0.046000\n",
      "Iteration: 7 bestvalit: 0.008296 bestmemit:    0.162000    0.078000    0.010000    0.004000    0.000000    0.242000    0.458000    0.046000\n",
      "Iteration: 8 bestvalit: 0.008296 bestmemit:    0.162000    0.078000    0.010000    0.004000    0.000000    0.242000    0.458000    0.046000\n",
      "Iteration: 9 bestvalit: 0.008296 bestmemit:    0.162000    0.078000    0.010000    0.004000    0.000000    0.242000    0.458000    0.046000\n",
      "Iteration: 10 bestvalit: 0.008296 bestmemit:    0.162000    0.078000    0.010000    0.004000    0.000000    0.242000    0.458000    0.046000\n",
      "Iteration: 11 bestvalit: 0.008296 bestmemit:    0.162000    0.078000    0.010000    0.004000    0.000000    0.242000    0.458000    0.046000\n",
      "Iteration: 12 bestvalit: 0.008296 bestmemit:    0.162000    0.078000    0.010000    0.004000    0.000000    0.242000    0.458000    0.046000\n",
      "Iteration: 13 bestvalit: 0.008296 bestmemit:    0.162000    0.078000    0.010000    0.004000    0.000000    0.242000    0.458000    0.046000\n",
      "Iteration: 14 bestvalit: 0.008296 bestmemit:    0.162000    0.078000    0.010000    0.004000    0.000000    0.242000    0.458000    0.046000\n",
      "Iteration: 15 bestvalit: 0.008296 bestmemit:    0.162000    0.078000    0.010000    0.004000    0.000000    0.242000    0.458000    0.046000\n",
      "Iteration: 16 bestvalit: 0.008296 bestmemit:    0.162000    0.078000    0.010000    0.004000    0.000000    0.242000    0.458000    0.046000\n",
      "Iteration: 17 bestvalit: 0.008296 bestmemit:    0.162000    0.078000    0.010000    0.004000    0.000000    0.242000    0.458000    0.046000\n",
      "Iteration: 18 bestvalit: 0.008296 bestmemit:    0.162000    0.078000    0.010000    0.004000    0.000000    0.242000    0.458000    0.046000\n",
      "[1] 0.162 0.078 0.010 0.004 0.000 0.242 0.458 0.046\n"
     ]
    },
    {
     "name": "stderr",
     "output_type": "stream",
     "text": [
      "Leverage constraint min_sum and max_sum are restrictive, \n",
      "              consider relaxing. e.g. 'full_investment' constraint should be min_sum=0.99 and max_sum=1.01\n"
     ]
    },
    {
     "name": "stdout",
     "output_type": "stream",
     "text": [
      "Iteration: 1 bestvalit: 0.009338 bestmemit:    0.208000    0.192000    0.010000    0.122000    0.052000    0.318000    0.098000    0.000000\n",
      "Iteration: 2 bestvalit: 0.009338 bestmemit:    0.208000    0.192000    0.010000    0.122000    0.052000    0.318000    0.098000    0.000000\n",
      "Iteration: 3 bestvalit: 0.009338 bestmemit:    0.208000    0.192000    0.010000    0.122000    0.052000    0.318000    0.098000    0.000000\n",
      "Iteration: 4 bestvalit: 0.008738 bestmemit:    0.122000    0.478000    0.008000    0.016000    0.018000    0.128000    0.218000    0.012000\n",
      "Iteration: 5 bestvalit: 0.008224 bestmemit:    0.028000    0.000000    0.494000    0.060000    0.002000    0.344000    0.066000    0.006000\n",
      "Iteration: 6 bestvalit: 0.008224 bestmemit:    0.028000    0.000000    0.494000    0.060000    0.002000    0.344000    0.066000    0.006000\n",
      "Iteration: 7 bestvalit: 0.007896 bestmemit:    0.128000    0.102000    0.216000    0.018000    0.000000    0.478000    0.058000    0.000000\n",
      "Iteration: 8 bestvalit: 0.007896 bestmemit:    0.128000    0.102000    0.216000    0.018000    0.000000    0.478000    0.058000    0.000000\n",
      "Iteration: 9 bestvalit: 0.007896 bestmemit:    0.128000    0.102000    0.216000    0.018000    0.000000    0.478000    0.058000    0.000000\n",
      "Iteration: 10 bestvalit: 0.007896 bestmemit:    0.128000    0.102000    0.216000    0.018000    0.000000    0.478000    0.058000    0.000000\n",
      "Iteration: 11 bestvalit: 0.007896 bestmemit:    0.128000    0.102000    0.216000    0.018000    0.000000    0.478000    0.058000    0.000000\n",
      "Iteration: 12 bestvalit: 0.007896 bestmemit:    0.128000    0.102000    0.216000    0.018000    0.000000    0.478000    0.058000    0.000000\n",
      "Iteration: 13 bestvalit: 0.007896 bestmemit:    0.128000    0.102000    0.216000    0.018000    0.000000    0.478000    0.058000    0.000000\n",
      "Iteration: 14 bestvalit: 0.007896 bestmemit:    0.128000    0.102000    0.216000    0.018000    0.000000    0.478000    0.058000    0.000000\n",
      "Iteration: 15 bestvalit: 0.007896 bestmemit:    0.128000    0.102000    0.216000    0.018000    0.000000    0.478000    0.058000    0.000000\n",
      "Iteration: 16 bestvalit: 0.007896 bestmemit:    0.128000    0.102000    0.216000    0.018000    0.000000    0.478000    0.058000    0.000000\n",
      "Iteration: 17 bestvalit: 0.007896 bestmemit:    0.128000    0.102000    0.216000    0.018000    0.000000    0.478000    0.058000    0.000000\n",
      "Iteration: 18 bestvalit: 0.007896 bestmemit:    0.128000    0.102000    0.216000    0.018000    0.000000    0.478000    0.058000    0.000000\n",
      "Iteration: 19 bestvalit: 0.007896 bestmemit:    0.128000    0.102000    0.216000    0.018000    0.000000    0.478000    0.058000    0.000000\n",
      "Iteration: 20 bestvalit: 0.007896 bestmemit:    0.128000    0.102000    0.216000    0.018000    0.000000    0.478000    0.058000    0.000000\n",
      "[1] 0.128 0.102 0.216 0.018 0.000 0.478 0.058 0.000\n"
     ]
    }
   ],
   "source": [
    "MinimumVarianceBT=optimize.portfolio.rebalancing(R=asset_matrix,\n",
    "MinimumVariancePortfolio,\n",
    "rebalance_on = 'month',\n",
    "training_period = 21,\n",
    "rolling_window = 21)"
   ]
  },
  {
   "cell_type": "code",
   "execution_count": 61,
   "metadata": {},
   "outputs": [],
   "source": [
    "MinVariancePortfReturns=Return.rebalancing(R=asset_matrix,\n",
    "weights=extractWeights(MinimumVarianceBT))\n",
    "\n",
    "colnames(MinVariancePortfReturns)=c('MinVariance')\n",
    "\n",
    "MeanVariancePortfReturns=Return.rebalancing(R=asset_matrix,\n",
    "weights=extractWeights(OptimizedPortfolioMeanVariance))\n",
    "\n",
    "colnames(MeanVariancePortfReturns)=c('MeanVariance')\n",
    "EqualWeightPortfReturns=Return.rebalancing(R=asset_matrix)\n",
    "colnames(EqualWeightPortfReturns)=c('EqualWeight')"
   ]
  },
  {
   "cell_type": "code",
   "execution_count": 63,
   "metadata": {},
   "outputs": [],
   "source": [
    "PortfolioComparisonData=merge.xts(MinVariancePortfReturns, MeanVariancePortfReturns,\n",
    "                                  EqualWeightPortfReturns, NDAQReturn)['2015-01-01/2017-08-31']"
   ]
  },
  {
   "cell_type": "code",
   "execution_count": 64,
   "metadata": {},
   "outputs": [
    {
     "data": {
      "image/png": "[encoded data removed]",
      "text/plain": [
       "Plot with title \"Performance of Various Strategies\""
      ]
     },
     "metadata": {},
     "output_type": "display_data"
    }
   ],
   "source": [
    "chart.CumReturns(PortfolioComparisonData,main='Performance of Various Strategies',legend.loc='topleft')"
   ]
  },
  {
   "cell_type": "code",
   "execution_count": 65,
   "metadata": {},
   "outputs": [
    {
     "data": {
      "text/html": [
       "<table>\n",
       "<thead><tr><th></th><th scope=col>MinVariance</th><th scope=col>MeanVariance</th><th scope=col>EqualWeight</th><th scope=col>NDAQ.Adjusted</th></tr></thead>\n",
       "<tbody>\n",
       "\t<tr><th scope=row>Annualized Return</th><td>0.2376</td><td>0.1545</td><td>0.2547</td><td>0.2063</td></tr>\n",
       "\t<tr><th scope=row>Annualized Std Dev</th><td>0.1946</td><td>0.1759</td><td>0.2292</td><td>0.1861</td></tr>\n",
       "\t<tr><th scope=row>Annualized Sharpe (Rf=0%)</th><td>1.2205</td><td>0.8786</td><td>1.1116</td><td>1.1087</td></tr>\n",
       "</tbody>\n",
       "</table>\n"
      ],
      "text/latex": [
       "\\begin{tabular}{r|llll}\n",
       "  & MinVariance & MeanVariance & EqualWeight & NDAQ.Adjusted\\\\\n",
       "\\hline\n",
       "\tAnnualized Return & 0.2376 & 0.1545 & 0.2547 & 0.2063\\\\\n",
       "\tAnnualized Std Dev & 0.1946 & 0.1759 & 0.2292 & 0.1861\\\\\n",
       "\tAnnualized Sharpe (Rf=0\\%) & 1.2205 & 0.8786 & 1.1116 & 1.1087\\\\\n",
       "\\end{tabular}\n"
      ],
      "text/markdown": [
       "\n",
       "| <!--/--> | MinVariance | MeanVariance | EqualWeight | NDAQ.Adjusted | \n",
       "|---|---|---|\n",
       "| Annualized Return | 0.2376 | 0.1545 | 0.2547 | 0.2063 | \n",
       "| Annualized Std Dev | 0.1946 | 0.1759 | 0.2292 | 0.1861 | \n",
       "| Annualized Sharpe (Rf=0%) | 1.2205 | 0.8786 | 1.1116 | 1.1087 | \n",
       "\n",
       "\n"
      ],
      "text/plain": [
       "                          MinVariance MeanVariance EqualWeight NDAQ.Adjusted\n",
       "Annualized Return         0.2376      0.1545       0.2547      0.2063       \n",
       "Annualized Std Dev        0.1946      0.1759       0.2292      0.1861       \n",
       "Annualized Sharpe (Rf=0%) 1.2205      0.8786       1.1116      1.1087       "
      ]
     },
     "metadata": {},
     "output_type": "display_data"
    },
    {
     "data": {
      "text/html": [
       "<table>\n",
       "<thead><tr><th></th><th scope=col>MinVariance</th><th scope=col>MeanVariance</th><th scope=col>EqualWeight</th><th scope=col>NDAQ.Adjusted</th></tr></thead>\n",
       "<tbody>\n",
       "\t<tr><th scope=row>Worst Drawdown</th><td>0.1473519</td><td>0.1605149</td><td>0.1610984</td><td>0.1095898</td></tr>\n",
       "</tbody>\n",
       "</table>\n"
      ],
      "text/latex": [
       "\\begin{tabular}{r|llll}\n",
       "  & MinVariance & MeanVariance & EqualWeight & NDAQ.Adjusted\\\\\n",
       "\\hline\n",
       "\tWorst Drawdown & 0.1473519 & 0.1605149 & 0.1610984 & 0.1095898\\\\\n",
       "\\end{tabular}\n"
      ],
      "text/markdown": [
       "\n",
       "| <!--/--> | MinVariance | MeanVariance | EqualWeight | NDAQ.Adjusted | \n",
       "|---|\n",
       "| Worst Drawdown | 0.1473519 | 0.1605149 | 0.1610984 | 0.1095898 | \n",
       "\n",
       "\n"
      ],
      "text/plain": [
       "               MinVariance MeanVariance EqualWeight NDAQ.Adjusted\n",
       "Worst Drawdown 0.1473519   0.1605149    0.1610984   0.1095898    "
      ]
     },
     "metadata": {},
     "output_type": "display_data"
    },
    {
     "data": {
      "text/html": [
       "<table>\n",
       "<thead><tr><th></th><th scope=col>MinVariance to NDAQ.Adjusted</th><th scope=col>MeanVariance to NDAQ.Adjusted</th><th scope=col>EqualWeight to NDAQ.Adjusted</th></tr></thead>\n",
       "<tbody>\n",
       "\t<tr><th scope=row>Beta</th><td>0.4760 </td><td> 0.4767</td><td>0.5049 </td></tr>\n",
       "\t<tr><th scope=row>Annualized Alpha</th><td>0.1504 </td><td> 0.0635</td><td>0.1617 </td></tr>\n",
       "\t<tr><th scope=row>Tracking Error</th><td>0.1989 </td><td> 0.1804</td><td>0.2284 </td></tr>\n",
       "\t<tr><th scope=row>Active Premium</th><td>0.0450 </td><td>-0.0518</td><td>0.0484 </td></tr>\n",
       "\t<tr><th scope=row>Information Ratio</th><td>0.2265 </td><td>-0.2871</td><td>0.2119 </td></tr>\n",
       "\t<tr><th scope=row>Treynor Ratio</th><td>0.4991 </td><td> 0.3242</td><td>0.5045 </td></tr>\n",
       "</tbody>\n",
       "</table>\n"
      ],
      "text/latex": [
       "\\begin{tabular}{r|lll}\n",
       "  & MinVariance to NDAQ.Adjusted & MeanVariance to NDAQ.Adjusted & EqualWeight to NDAQ.Adjusted\\\\\n",
       "\\hline\n",
       "\tBeta & 0.4760  &  0.4767 & 0.5049 \\\\\n",
       "\tAnnualized Alpha & 0.1504  &  0.0635 & 0.1617 \\\\\n",
       "\tTracking Error & 0.1989  &  0.1804 & 0.2284 \\\\\n",
       "\tActive Premium & 0.0450  & -0.0518 & 0.0484 \\\\\n",
       "\tInformation Ratio & 0.2265  & -0.2871 & 0.2119 \\\\\n",
       "\tTreynor Ratio & 0.4991  &  0.3242 & 0.5045 \\\\\n",
       "\\end{tabular}\n"
      ],
      "text/markdown": [
       "\n",
       "| <!--/--> | MinVariance to NDAQ.Adjusted | MeanVariance to NDAQ.Adjusted | EqualWeight to NDAQ.Adjusted | \n",
       "|---|---|---|---|---|---|\n",
       "| Beta | 0.4760  |  0.4767 | 0.5049  | \n",
       "| Annualized Alpha | 0.1504  |  0.0635 | 0.1617  | \n",
       "| Tracking Error | 0.1989  |  0.1804 | 0.2284  | \n",
       "| Active Premium | 0.0450  | -0.0518 | 0.0484  | \n",
       "| Information Ratio | 0.2265  | -0.2871 | 0.2119  | \n",
       "| Treynor Ratio | 0.4991  |  0.3242 | 0.5045  | \n",
       "\n",
       "\n"
      ],
      "text/plain": [
       "                  MinVariance to NDAQ.Adjusted MeanVariance to NDAQ.Adjusted\n",
       "Beta              0.4760                        0.4767                      \n",
       "Annualized Alpha  0.1504                        0.0635                      \n",
       "Tracking Error    0.1989                        0.1804                      \n",
       "Active Premium    0.0450                       -0.0518                      \n",
       "Information Ratio 0.2265                       -0.2871                      \n",
       "Treynor Ratio     0.4991                        0.3242                      \n",
       "                  EqualWeight to NDAQ.Adjusted\n",
       "Beta              0.5049                      \n",
       "Annualized Alpha  0.1617                      \n",
       "Tracking Error    0.2284                      \n",
       "Active Premium    0.0484                      \n",
       "Information Ratio 0.2119                      \n",
       "Treynor Ratio     0.5045                      "
      ]
     },
     "metadata": {},
     "output_type": "display_data"
    }
   ],
   "source": [
    "table.AnnualizedReturns(PortfolioComparisonData)\n",
    "maxDrawdown(PortfolioComparisonData)\n",
    "table.CAPM(PortfolioComparisonData[,1:3],\n",
    "PortfolioComparisonData[,4])[c(2,6,9,10,11,12),]"
   ]
  }
 ],
 "metadata": {
  "kernelspec": {
   "display_name": "R",
   "language": "R",
   "name": "ir"
  },
  "language_info": {
   "codemirror_mode": "r",
   "file_extension": ".r",
   "mimetype": "text/x-r-source",
   "name": "R",
   "pygments_lexer": "r",
   "version": "3.4.1"
  }
 },
 "nbformat": 4,
 "nbformat_minor": 2
}

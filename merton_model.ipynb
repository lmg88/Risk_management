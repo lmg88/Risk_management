{
 "cells": [
  {
   "cell_type": "markdown",
   "metadata": {
    "_cell_guid": "74786cf6-dd1a-441f-b4e8-8efe36417eb6",
    "_uuid": "aebe5507daaa7eeef983a4343116555dd741d14b"
   },
   "source": [
    "# Merton Model for Probability of default"
   ]
  },
  {
   "cell_type": "markdown",
   "metadata": {
    "_cell_guid": "636a4994-645d-4fb9-b62e-b94c3b09196b",
    "_uuid": "6e21650e41999e291d33343d9245c98ea34dc071"
   },
   "source": [
    "A structural model of default is a model in which default happens when the assets of a company reach a sufficiently low level with respect to liabilities.\n",
    "This is a structural model to compute the Probability of default of the counterparty under the Basel II and Basel III framework"
   ]
  },
  {
   "cell_type": "markdown",
   "metadata": {
    "_cell_guid": "11fa8540-c59e-4818-b17c-75918199b472",
    "_uuid": "023efb85fba4fc23efb94b479f052fc3aa2f12b8"
   },
   "source": [
    "- S0= equity at time 0\n",
    "- sigmaS= Instantaneous volatility of equity\n",
    "- T= maturity\n",
    "- B= Face value of debt obligation (i.e. liabilities)"
   ]
  },
  {
   "cell_type": "code",
   "execution_count": 1,
   "metadata": {
    "_cell_guid": "4fe030ea-bbff-4391-a9a7-c9b3cc911f27",
    "_uuid": "84d3164ee76df137c19a7f1fd659d30ef1fa3d62",
    "collapsed": true
   },
   "outputs": [],
   "source": [
    "S0=3\n",
    "sigmaS=0.8\n",
    "r=0.05\n",
    "T=1\n",
    "B=10"
   ]
  },
  {
   "cell_type": "markdown",
   "metadata": {},
   "source": [
    "In the function:\n",
    "- v0= value of company's assets at time t0\n",
    "- sigmaV=  volatility of company's assets "
   ]
  },
  {
   "cell_type": "code",
   "execution_count": 2,
   "metadata": {
    "_cell_guid": "4146510b-c978-4403-a0ad-a3468bf236f5",
    "_uuid": "c54acc4beecbb6000596cfd32fe7dbe347bab9b3",
    "collapsed": true
   },
   "outputs": [],
   "source": [
    "Merton_solve=function(parm){\n",
    "  \n",
    "  V0=parm[1] \n",
    "  sigmaV=parm[2] \n",
    "  \n",
    "   \n",
    "  \n",
    "  d1=(log(V0/B)+(r+sigmaV^2/2)*T)/(sigmaV*sqrt(T)) \n",
    "  d2=d1-sigmaV*sqrt(T)\n",
    "  F=V0*pnorm(d1)-B*exp(-r*T)*pnorm(d2)-S0\n",
    "  G=pnorm(d1)*sigmaV*V0-sigmaS*S0\n",
    "  \n",
    "  \n",
    "  return(F^2+G^2)\n",
    "}"
   ]
  },
  {
   "cell_type": "markdown",
   "metadata": {},
   "source": [
    "Minimization step:\n",
    "- to find V0 and sigmaV we need to specify two arbitrary values"
   ]
  },
  {
   "cell_type": "code",
   "execution_count": 3,
   "metadata": {
    "_cell_guid": "bfb59dbf-a068-4d0d-8f40-cd11139e450e",
    "_uuid": "9c4a3dd1dbd6d663b3b7923806ef967a5586d9d2",
    "collapsed": true
   },
   "outputs": [],
   "source": [
    "solutions=optim(c(V0=10,sigmaV=0.2),Merton_solve)"
   ]
  },
  {
   "cell_type": "code",
   "execution_count": 4,
   "metadata": {
    "_cell_guid": "08f47100-acdc-4639-826d-8e40994c7732",
    "_uuid": "1313a269fce8d9efbc85eb1dda0d4a4b8a2738c1",
    "collapsed": true
   },
   "outputs": [],
   "source": [
    "V0=solutions$par[1]\n",
    "sigmaV=solutions$par[2]"
   ]
  },
  {
   "cell_type": "markdown",
   "metadata": {},
   "source": [
    "compute d1 and d2"
   ]
  },
  {
   "cell_type": "code",
   "execution_count": 5,
   "metadata": {
    "_cell_guid": "951d0b35-586d-4d21-99d2-ecdcfab93402",
    "_uuid": "b683d67653b2573825f4d0396ee9b49fce700072",
    "collapsed": true
   },
   "outputs": [],
   "source": [
    "d1=(log(V0/B)+(r+sigmaV^2/2)*T)/(sigmaV*sqrt(T))\n",
    "d2=d1-sigmaV*sqrt(T)"
   ]
  },
  {
   "cell_type": "markdown",
   "metadata": {},
   "source": [
    "The probability of default in one year for our company"
   ]
  },
  {
   "cell_type": "code",
   "execution_count": 6,
   "metadata": {
    "_cell_guid": "d27c28b1-6538-45b4-a3d6-19183a21bd86",
    "_uuid": "9022c2b255eb6e1b633f843414901907221f208b"
   },
   "outputs": [
    {
     "data": {
      "text/html": [
       "<strong>V0:</strong> 0.126940028222493"
      ],
      "text/latex": [
       "\\textbf{V0:} 0.126940028222493"
      ],
      "text/markdown": [
       "**V0:** 0.126940028222493"
      ],
      "text/plain": [
       "     V0 \n",
       "0.12694 "
      ]
     },
     "metadata": {},
     "output_type": "display_data"
    }
   ],
   "source": [
    "pnorm(-d2)"
   ]
  },
  {
   "cell_type": "code",
   "execution_count": 7,
   "metadata": {},
   "outputs": [],
   "source": []
  }
 ],
 "metadata": {
  "kernelspec": {
   "display_name": "R",
   "language": "R",
   "name": "ir"
  },
  "language_info": {
   "codemirror_mode": "r",
   "file_extension": ".r",
   "mimetype": "text/x-r-source",
   "name": "R",
   "pygments_lexer": "r",
   "version": "3.4.1"
  }
 },
 "nbformat": 4,
 "nbformat_minor": 1
}
